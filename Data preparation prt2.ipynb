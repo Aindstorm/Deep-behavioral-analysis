{
 "cells": [
  {
   "cell_type": "markdown",
   "metadata": {},
   "source": [
    "Some other additional stuff"
   ]
  },
  {
   "cell_type": "code",
   "execution_count": 1,
   "metadata": {
    "_cell_guid": "b1076dfc-b9ad-4769-8c92-a6c4dae69d19",
    "_uuid": "8f2839f25d086af736a60e9eeb907d3b93b6e0e5"
   },
   "outputs": [],
   "source": [
    "import sys\n",
    "import pandas as pd\n",
    "import numpy as np\n",
    "import random\n",
    "import os\n",
    "import scipy.stats as ss\n",
    "import scipy\n",
    "from sklearn.preprocessing import MinMaxScaler\n"
   ]
  },
  {
   "cell_type": "code",
   "execution_count": 2,
   "metadata": {},
   "outputs": [],
   "source": [
    "df_train = pd.read_csv(\"../input/clean_train.csv\", low_memory=False)"
   ]
  },
  {
   "cell_type": "code",
   "execution_count": 3,
   "metadata": {},
   "outputs": [],
   "source": [
    "requester = pd.read_csv(\"../input/requester.csv\", sep=';')"
   ]
  },
  {
   "cell_type": "code",
   "execution_count": 4,
   "metadata": {},
   "outputs": [],
   "source": [
    "df_train['win_count'].fillna(df_train['win_count'].mean(), inplace=True)"
   ]
  },
  {
   "cell_type": "code",
   "execution_count": 5,
   "metadata": {},
   "outputs": [],
   "source": [
    "df_train = pd.merge(df_train, requester[['id', 'requester_type', 'gender', 'birth_year']], how='left', left_on = 'requester', right_on = 'id')"
   ]
  },
  {
   "cell_type": "code",
   "execution_count": 6,
   "metadata": {},
   "outputs": [],
   "source": [
    "df_train['gender'].fillna(1, inplace=True)"
   ]
  },
  {
   "cell_type": "code",
   "execution_count": 7,
   "metadata": {},
   "outputs": [],
   "source": [
    "df_train['birth_year'].fillna(df_train['birth_year'].mean(), inplace=True)"
   ]
  },
  {
   "cell_type": "code",
   "execution_count": 8,
   "metadata": {},
   "outputs": [],
   "source": [
    "df_train.drop(['order_number','id'], axis=1, inplace=True)"
   ]
  },
  {
   "cell_type": "code",
   "execution_count": 9,
   "metadata": {},
   "outputs": [],
   "source": [
    "def get_age(x):\n",
    "    return 2020 - x['birth_year']"
   ]
  },
  {
   "cell_type": "code",
   "execution_count": 10,
   "metadata": {},
   "outputs": [],
   "source": [
    "df_train['age'] = df_train.apply(get_age, axis=1)"
   ]
  },
  {
   "cell_type": "code",
   "execution_count": 11,
   "metadata": {},
   "outputs": [],
   "source": [
    "df_train.drop(['birth_year'], axis=1, inplace=True)"
   ]
  },
  {
   "cell_type": "code",
   "execution_count": 12,
   "metadata": {},
   "outputs": [],
   "source": [
    "df_train['gender'] = df_train['gender'].astype('int64')"
   ]
  },
  {
   "cell_type": "code",
   "execution_count": 13,
   "metadata": {},
   "outputs": [],
   "source": [
    "order_count = df_train[['requester', 'service']].groupby(['requester']).count()"
   ]
  },
  {
   "cell_type": "code",
   "execution_count": 14,
   "metadata": {},
   "outputs": [],
   "source": [
    "order_count.rename({'service':'order_count'}, axis=1, inplace=True)"
   ]
  },
  {
   "cell_type": "code",
   "execution_count": 15,
   "metadata": {},
   "outputs": [],
   "source": [
    "order_count.reset_index(inplace=True)"
   ]
  },
  {
   "cell_type": "code",
   "execution_count": 16,
   "metadata": {},
   "outputs": [],
   "source": [
    "df_train = pd.merge(df_train, order_count, how='left', on = 'requester')"
   ]
  },
  {
   "cell_type": "code",
   "execution_count": 17,
   "metadata": {},
   "outputs": [],
   "source": [
    "df_train['month'] = pd.to_datetime(df_train['order_date']).dt.month"
   ]
  },
  {
   "cell_type": "code",
   "execution_count": 18,
   "metadata": {},
   "outputs": [],
   "source": [
    "df_train['week'] = pd.to_datetime(df_train['order_date']).dt.week"
   ]
  },
  {
   "cell_type": "code",
   "execution_count": 19,
   "metadata": {},
   "outputs": [],
   "source": [
    "df_train['year'] = pd.to_datetime(df_train['order_date']).dt.year"
   ]
  },
  {
   "cell_type": "code",
   "execution_count": 20,
   "metadata": {},
   "outputs": [],
   "source": [
    "pop_csi = list(df_train['custom_service_id'].value_counts()[:50].index)"
   ]
  },
  {
   "cell_type": "code",
   "execution_count": 21,
   "metadata": {},
   "outputs": [],
   "source": [
    "def change_csi(x):\n",
    "    if x['custom_service_id'] in pop_csi:\n",
    "        return x['custom_service_id']\n",
    "    return 777"
   ]
  },
  {
   "cell_type": "code",
   "execution_count": 22,
   "metadata": {},
   "outputs": [],
   "source": [
    "df_train['custom_service_id'] = df_train.apply(change_csi, axis=1)"
   ]
  },
  {
   "cell_type": "code",
   "execution_count": 23,
   "metadata": {},
   "outputs": [
    {
     "data": {
      "text/html": [
       "<div>\n",
       "<style scoped>\n",
       "    .dataframe tbody tr th:only-of-type {\n",
       "        vertical-align: middle;\n",
       "    }\n",
       "\n",
       "    .dataframe tbody tr th {\n",
       "        vertical-align: top;\n",
       "    }\n",
       "\n",
       "    .dataframe thead th {\n",
       "        text-align: right;\n",
       "    }\n",
       "</style>\n",
       "<table border=\"1\" class=\"dataframe\">\n",
       "  <thead>\n",
       "    <tr style=\"text-align: right;\">\n",
       "      <th></th>\n",
       "      <th>order_date</th>\n",
       "      <th>requester</th>\n",
       "      <th>service</th>\n",
       "      <th>service_title</th>\n",
       "      <th>mfc</th>\n",
       "      <th>internal_status</th>\n",
       "      <th>external_status</th>\n",
       "      <th>order_type</th>\n",
       "      <th>department_id</th>\n",
       "      <th>custom_service_id</th>\n",
       "      <th>...</th>\n",
       "      <th>legal</th>\n",
       "      <th>auto_ping_queue</th>\n",
       "      <th>win_count</th>\n",
       "      <th>requester_type</th>\n",
       "      <th>gender</th>\n",
       "      <th>age</th>\n",
       "      <th>order_count</th>\n",
       "      <th>month</th>\n",
       "      <th>week</th>\n",
       "      <th>year</th>\n",
       "    </tr>\n",
       "  </thead>\n",
       "  <tbody>\n",
       "    <tr>\n",
       "      <th>2713442</th>\n",
       "      <td>2020-05-18 19:06:26.653</td>\n",
       "      <td>177596976</td>\n",
       "      <td>43</td>\n",
       "      <td>1275</td>\n",
       "      <td>4396466</td>\n",
       "      <td>2</td>\n",
       "      <td>2</td>\n",
       "      <td>SERVICE</td>\n",
       "      <td>12870937</td>\n",
       "      <td>210963</td>\n",
       "      <td>...</td>\n",
       "      <td>False</td>\n",
       "      <td>True</td>\n",
       "      <td>14.0</td>\n",
       "      <td>1</td>\n",
       "      <td>2</td>\n",
       "      <td>22.0</td>\n",
       "      <td>8</td>\n",
       "      <td>5</td>\n",
       "      <td>21</td>\n",
       "      <td>2020</td>\n",
       "    </tr>\n",
       "    <tr>\n",
       "      <th>2713443</th>\n",
       "      <td>2020-05-18 19:07:50.170</td>\n",
       "      <td>3663125</td>\n",
       "      <td>43</td>\n",
       "      <td>98</td>\n",
       "      <td>1956656</td>\n",
       "      <td>2</td>\n",
       "      <td>2</td>\n",
       "      <td>SERVICE</td>\n",
       "      <td>316134</td>\n",
       "      <td>48333290</td>\n",
       "      <td>...</td>\n",
       "      <td>False</td>\n",
       "      <td>True</td>\n",
       "      <td>13.0</td>\n",
       "      <td>1</td>\n",
       "      <td>2</td>\n",
       "      <td>45.0</td>\n",
       "      <td>7</td>\n",
       "      <td>5</td>\n",
       "      <td>21</td>\n",
       "      <td>2020</td>\n",
       "    </tr>\n",
       "    <tr>\n",
       "      <th>2713444</th>\n",
       "      <td>2020-05-18 19:26:17.127</td>\n",
       "      <td>86143570</td>\n",
       "      <td>43</td>\n",
       "      <td>98</td>\n",
       "      <td>19146184</td>\n",
       "      <td>2</td>\n",
       "      <td>2</td>\n",
       "      <td>SERVICE</td>\n",
       "      <td>316134</td>\n",
       "      <td>48333290</td>\n",
       "      <td>...</td>\n",
       "      <td>False</td>\n",
       "      <td>True</td>\n",
       "      <td>3.0</td>\n",
       "      <td>1</td>\n",
       "      <td>2</td>\n",
       "      <td>62.0</td>\n",
       "      <td>2</td>\n",
       "      <td>5</td>\n",
       "      <td>21</td>\n",
       "      <td>2020</td>\n",
       "    </tr>\n",
       "    <tr>\n",
       "      <th>2713445</th>\n",
       "      <td>2020-05-18 19:32:53.107</td>\n",
       "      <td>138811055</td>\n",
       "      <td>43</td>\n",
       "      <td>491</td>\n",
       "      <td>1956423</td>\n",
       "      <td>10</td>\n",
       "      <td>5</td>\n",
       "      <td>SERVICE</td>\n",
       "      <td>316160</td>\n",
       "      <td>210889936</td>\n",
       "      <td>...</td>\n",
       "      <td>False</td>\n",
       "      <td>True</td>\n",
       "      <td>6.0</td>\n",
       "      <td>1</td>\n",
       "      <td>1</td>\n",
       "      <td>46.0</td>\n",
       "      <td>3</td>\n",
       "      <td>5</td>\n",
       "      <td>21</td>\n",
       "      <td>2020</td>\n",
       "    </tr>\n",
       "    <tr>\n",
       "      <th>2713446</th>\n",
       "      <td>2020-05-18 19:35:25.083</td>\n",
       "      <td>138811055</td>\n",
       "      <td>43</td>\n",
       "      <td>724</td>\n",
       "      <td>1956423</td>\n",
       "      <td>10</td>\n",
       "      <td>5</td>\n",
       "      <td>SERVICE</td>\n",
       "      <td>316160</td>\n",
       "      <td>210890128</td>\n",
       "      <td>...</td>\n",
       "      <td>False</td>\n",
       "      <td>True</td>\n",
       "      <td>6.0</td>\n",
       "      <td>1</td>\n",
       "      <td>1</td>\n",
       "      <td>46.0</td>\n",
       "      <td>3</td>\n",
       "      <td>5</td>\n",
       "      <td>21</td>\n",
       "      <td>2020</td>\n",
       "    </tr>\n",
       "  </tbody>\n",
       "</table>\n",
       "<p>5 rows × 29 columns</p>\n",
       "</div>"
      ],
      "text/plain": [
       "                      order_date  requester  service  service_title       mfc  \\\n",
       "2713442  2020-05-18 19:06:26.653  177596976       43           1275   4396466   \n",
       "2713443  2020-05-18 19:07:50.170    3663125       43             98   1956656   \n",
       "2713444  2020-05-18 19:26:17.127   86143570       43             98  19146184   \n",
       "2713445  2020-05-18 19:32:53.107  138811055       43            491   1956423   \n",
       "2713446  2020-05-18 19:35:25.083  138811055       43            724   1956423   \n",
       "\n",
       "         internal_status  external_status order_type  department_id  \\\n",
       "2713442                2                2    SERVICE       12870937   \n",
       "2713443                2                2    SERVICE         316134   \n",
       "2713444                2                2    SERVICE         316134   \n",
       "2713445               10                5    SERVICE         316160   \n",
       "2713446               10                5    SERVICE         316160   \n",
       "\n",
       "         custom_service_id  ...  legal auto_ping_queue  win_count  \\\n",
       "2713442             210963  ...  False            True       14.0   \n",
       "2713443           48333290  ...  False            True       13.0   \n",
       "2713444           48333290  ...  False            True        3.0   \n",
       "2713445          210889936  ...  False            True        6.0   \n",
       "2713446          210890128  ...  False            True        6.0   \n",
       "\n",
       "         requester_type  gender   age order_count  month  week  year  \n",
       "2713442               1       2  22.0           8      5    21  2020  \n",
       "2713443               1       2  45.0           7      5    21  2020  \n",
       "2713444               1       2  62.0           2      5    21  2020  \n",
       "2713445               1       1  46.0           3      5    21  2020  \n",
       "2713446               1       1  46.0           3      5    21  2020  \n",
       "\n",
       "[5 rows x 29 columns]"
      ]
     },
     "execution_count": 23,
     "metadata": {},
     "output_type": "execute_result"
    }
   ],
   "source": [
    "df_train.tail()"
   ]
  },
  {
   "cell_type": "code",
   "execution_count": 24,
   "metadata": {},
   "outputs": [],
   "source": [
    "person_data = df_train[['requester', 'requester_type', 'gender', 'age', 'order_count']].groupby(['requester']).min()"
   ]
  },
  {
   "cell_type": "code",
   "execution_count": 25,
   "metadata": {},
   "outputs": [],
   "source": [
    "person_data.reset_index(inplace=True)"
   ]
  },
  {
   "cell_type": "code",
   "execution_count": 26,
   "metadata": {},
   "outputs": [],
   "source": [
    "#grouped = df_train.loc[df_train['order_count'] <= 6].groupby('requester')"
   ]
  },
  {
   "cell_type": "code",
   "execution_count": 27,
   "metadata": {},
   "outputs": [],
   "source": [
    "grouped = df_train.groupby('requester')"
   ]
  },
  {
   "cell_type": "code",
   "execution_count": 28,
   "metadata": {},
   "outputs": [],
   "source": [
    "columns = ['requester', \n",
    " 'order_date',\n",
    " 'service',\n",
    " 'service_title',\n",
    " 'mfc',\n",
    " 'internal_status',\n",
    " 'external_status',\n",
    " 'order_type',\n",
    " 'department_id',\n",
    " 'custom_service_id',\n",
    " 'service_level',\n",
    " 'is_subdep',\n",
    " 'is_csid',\n",
    " 'proc_time',\n",
    " 'dayofweek',\n",
    " 'day_part',\n",
    " 'month',\n",
    " 'week',\n",
    " 'year',\n",
    " 'person',\n",
    " 'sole',\n",
    " 'legal',\n",
    " 'auto_ping_queue',\n",
    " 'win_count']"
   ]
  },
  {
   "cell_type": "code",
   "execution_count": 29,
   "metadata": {},
   "outputs": [],
   "source": [
    "dt = df_train[columns].set_index(['requester', 'order_date'])\n",
    "dt = dt.sort_index(axis = 0)"
   ]
  },
  {
   "cell_type": "code",
   "execution_count": 30,
   "metadata": {},
   "outputs": [],
   "source": [
    "\n",
    "dt1 = dt.groupby('requester').shift(1)\n",
    "dt2 = dt.groupby('requester').shift(2)\n",
    "dt3 = dt.groupby('requester').shift(3)\n",
    "\n",
    "\n",
    "# merge dataframes\n",
    "\n",
    "newdf = pd.merge(dt, dt1, how = 'left', on = ['requester', 'order_date'], sort = False, suffixes = ('', '_1'))\n",
    "newdf = pd.merge(newdf, dt2, how = 'left', on = ['requester', 'order_date'], sort = False, suffixes = ('', '_2'))\n",
    "newdf = pd.merge(newdf, dt3, how = 'left', on = ['requester', 'order_date'], sort = False, suffixes = ('', '_3'))"
   ]
  },
  {
   "cell_type": "code",
   "execution_count": 31,
   "metadata": {},
   "outputs": [],
   "source": [
    "final = newdf.loc[newdf['service_title_1'].notnull()].reset_index().drop(['order_date'], axis=1)"
   ]
  },
  {
   "cell_type": "code",
   "execution_count": 32,
   "metadata": {},
   "outputs": [],
   "source": [
    "final = pd.merge(final, person_data, how='left', on = 'requester')"
   ]
  },
  {
   "cell_type": "code",
   "execution_count": 33,
   "metadata": {},
   "outputs": [],
   "source": [
    "final.to_csv('train_3lags_v3.csv', index=False)"
   ]
  }
 ],
 "metadata": {
  "kernelspec": {
   "display_name": "Python 3",
   "language": "python",
   "name": "python3"
  },
  "language_info": {
   "codemirror_mode": {
    "name": "ipython",
    "version": 3
   },
   "file_extension": ".py",
   "mimetype": "text/x-python",
   "name": "python",
   "nbconvert_exporter": "python",
   "pygments_lexer": "ipython3",
   "version": "3.7.3"
  }
 },
 "nbformat": 4,
 "nbformat_minor": 4
}

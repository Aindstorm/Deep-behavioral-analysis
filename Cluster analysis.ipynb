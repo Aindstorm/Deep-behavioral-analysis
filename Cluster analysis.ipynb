{
 "cells": [
  {
   "cell_type": "markdown",
   "metadata": {},
   "source": [
    "Doing some clusterization"
   ]
  },
  {
   "cell_type": "code",
   "execution_count": 1,
   "metadata": {
    "_cell_guid": "b1076dfc-b9ad-4769-8c92-a6c4dae69d19",
    "_uuid": "8f2839f25d086af736a60e9eeb907d3b93b6e0e5"
   },
   "outputs": [],
   "source": [
    "import sys\n",
    "import pandas as pd\n",
    "import numpy as np\n",
    "import scipy.sparse as sparse\n",
    "from scipy.sparse.linalg import spsolve\n",
    "import random\n",
    "import os\n",
    "import scipy.stats as ss\n",
    "import scipy\n",
    "from sklearn.preprocessing import MinMaxScaler\n",
    "from sklearn.model_selection import train_test_split\n",
    "from sklearn.metrics import accuracy_score\n",
    "from catboost import CatBoostClassifier, Pool, sum_models, to_classifier\n",
    "from sklearn.model_selection import KFold\n",
    "\n",
    "import implicit"
   ]
  },
  {
   "cell_type": "code",
   "execution_count": 2,
   "metadata": {},
   "outputs": [],
   "source": [
    "df2 = pd.read_csv(\"../input/irkutsk/train_3lags_semibalanced.csv\", low_memory=False)"
   ]
  },
  {
   "cell_type": "code",
   "execution_count": null,
   "metadata": {},
   "outputs": [],
   "source": [
    "#df2 = pd.read_csv(\"../input/irkutsk/train_3lags_v4.csv\", low_memory=False)"
   ]
  },
  {
   "cell_type": "code",
   "execution_count": null,
   "metadata": {},
   "outputs": [],
   "source": [
    "#df2.drop(['Unnamed: 0'], axis=1, inplace=True)"
   ]
  },
  {
   "cell_type": "code",
   "execution_count": 122,
   "metadata": {},
   "outputs": [],
   "source": [
    "df2 = df2.sample(frac=1).reset_index(drop=True)"
   ]
  },
  {
   "cell_type": "code",
   "execution_count": 4,
   "metadata": {},
   "outputs": [],
   "source": [
    "df_test = df2[['service_title', 'order_count']]"
   ]
  },
  {
   "cell_type": "code",
   "execution_count": 5,
   "metadata": {},
   "outputs": [],
   "source": [
    "df2.drop(['service',\n",
    "'service_title',\n",
    "'mfc',\n",
    "'internal_status',\n",
    "'external_status',\n",
    "'order_type',\n",
    "'department_id',\n",
    "'custom_service_id',\n",
    "'service_level',\n",
    "'is_subdep',\n",
    "'is_csid',\n",
    "'proc_time',\n",
    "'dayofweek',\n",
    "'day_part',\n",
    "'person',\n",
    "'sole',\n",
    "'legal',\n",
    "'auto_ping_queue',\n",
    "'win_count',\n",
    "'month',\n",
    "'week',\n",
    "'year'], axis=1 , inplace=True)"
   ]
  },
  {
   "cell_type": "code",
   "execution_count": 6,
   "metadata": {},
   "outputs": [],
   "source": [
    "df_train = df2.loc[df2['order_count'] > 1]"
   ]
  },
  {
   "cell_type": "code",
   "execution_count": 7,
   "metadata": {},
   "outputs": [],
   "source": [
    "df_test = df_test.loc[df_test['order_count'] > 1]"
   ]
  },
  {
   "cell_type": "code",
   "execution_count": 8,
   "metadata": {},
   "outputs": [],
   "source": [
    "df_train.reset_index(inplace=True)\n",
    "df_test.reset_index(inplace=True)"
   ]
  },
  {
   "cell_type": "code",
   "execution_count": 9,
   "metadata": {},
   "outputs": [],
   "source": [
    "df_train.drop(['index'], axis=1, inplace=True)\n",
    "df_test.drop(['index'], axis=1, inplace=True)"
   ]
  },
  {
   "cell_type": "code",
   "execution_count": null,
   "metadata": {},
   "outputs": [],
   "source": [
    "#mask = (df_train_mask['order_count'] == 5)\n",
    "#z_valid = df_train_mask[mask]\n",
    "\n",
    "#df_train_mask.loc[mask, 'service_4'] = np.nan\n"
   ]
  },
  {
   "cell_type": "code",
   "execution_count": null,
   "metadata": {},
   "outputs": [],
   "source": [
    "df_test"
   ]
  },
  {
   "cell_type": "code",
   "execution_count": null,
   "metadata": {},
   "outputs": [],
   "source": [
    "df_train.columns"
   ]
  },
  {
   "cell_type": "code",
   "execution_count": 10,
   "metadata": {},
   "outputs": [],
   "source": [
    "categorical = ['service_1', 'service_title_1', 'mfc_1',\n",
    "       'internal_status_1', 'external_status_1', 'order_type_1',\n",
    "       'department_id_1', 'custom_service_id_1', 'service_level_1',\n",
    "       'is_subdep_1', 'is_csid_1', 'dayofweek_1', 'day_part_1', 'month_1', 'week_1', 'year_1',\n",
    "       'person_1', 'sole_1', 'legal_1', 'auto_ping_queue_1',\n",
    "       'service_2', 'service_title_2', 'mfc_2', 'internal_status_2',\n",
    "       'external_status_2', 'order_type_2', 'department_id_2',\n",
    "       'custom_service_id_2', 'service_level_2', 'is_subdep_2', 'is_csid_2',\n",
    "       'dayofweek_2', 'day_part_2', 'person_2', 'sole_2', 'month_2', 'week_2', 'year_2',\n",
    "       'legal_2', 'auto_ping_queue_2','service_3',\n",
    "       'service_title_3', 'mfc_3', 'internal_status_3', 'external_status_3',\n",
    "       'order_type_3', 'department_id_3', 'custom_service_id_3',\n",
    "       'service_level_3', 'is_subdep_3', 'is_csid_3', 'month_3', 'week_3', 'year_3',\n",
    "       'dayofweek_3', 'day_part_3', 'person_3', 'sole_3', 'legal_3',\n",
    "       'auto_ping_queue_3',\n",
    "       'requester_type', 'gender']"
   ]
  },
  {
   "cell_type": "code",
   "execution_count": 11,
   "metadata": {},
   "outputs": [],
   "source": [
    "cat = ['service_1', 'service_title_1', 'mfc_1',\n",
    "       'internal_status_1', 'external_status_1',\n",
    "       'department_id_1', 'custom_service_id_1', 'month_1', 'week_1', 'year_1',\n",
    "       'is_subdep_1', 'is_csid_1', 'dayofweek_1',\n",
    "       'service_2', 'service_title_2', 'mfc_2', 'internal_status_2',\n",
    "       'external_status_2', 'department_id_2', 'month_2', 'week_2', 'year_2',\n",
    "       'custom_service_id_2', 'is_subdep_2', 'is_csid_2',\n",
    "       'dayofweek_2', 'service_3',\n",
    "       'service_title_3', 'mfc_3', 'internal_status_3', 'external_status_3',\n",
    "       'department_id_3', 'custom_service_id_3',\n",
    "       'is_subdep_3', 'is_csid_3', 'month_3', 'week_3', 'year_3',\n",
    "       'dayofweek_3', \n",
    "       'requester_type', 'gender']"
   ]
  },
  {
   "cell_type": "code",
   "execution_count": 12,
   "metadata": {},
   "outputs": [],
   "source": [
    "X = df_train.drop(['requester'], axis=1)\n",
    "y = df_test['service_title']"
   ]
  },
  {
   "cell_type": "code",
   "execution_count": 13,
   "metadata": {},
   "outputs": [],
   "source": [
    "X.drop(['service_2',\n",
    "'service_title_2',\n",
    "'mfc_2',\n",
    "'internal_status_2',\n",
    "'external_status_2',\n",
    "'order_type_2',\n",
    "'department_id_2',\n",
    "'custom_service_id_2',\n",
    "'service_level_2',\n",
    "'is_subdep_2',\n",
    "'is_csid_2',\n",
    "'proc_time_2',\n",
    "'dayofweek_2',\n",
    "'day_part_2',\n",
    "'person_2',\n",
    "'sole_2',\n",
    "'legal_2',\n",
    "'auto_ping_queue_2',\n",
    "'win_count_2',\n",
    "'month_2',\n",
    "'week_2',\n",
    "'year_2'], axis=1 , inplace=True)\n",
    "\n",
    "X.drop(['service_3',\n",
    "'service_title_3',\n",
    "'mfc_3',\n",
    "'internal_status_3',\n",
    "'external_status_3',\n",
    "'order_type_3',\n",
    "'department_id_3',\n",
    "'custom_service_id_3',\n",
    "'service_level_3',\n",
    "'is_subdep_3',\n",
    "'is_csid_3',\n",
    "'proc_time_3',\n",
    "'dayofweek_3',\n",
    "'day_part_3',\n",
    "'person_3',\n",
    "'sole_3',\n",
    "'legal_3',\n",
    "'auto_ping_queue_3',\n",
    "'win_count_3',\n",
    "'month_3',\n",
    "'week_3',\n",
    "'year_3'], axis=1 , inplace=True)"
   ]
  },
  {
   "cell_type": "code",
   "execution_count": 14,
   "metadata": {},
   "outputs": [],
   "source": [
    "categorical = ['service_1', 'service_title_1', 'mfc_1',\n",
    "       'internal_status_1', 'external_status_1', 'order_type_1',\n",
    "       'department_id_1', 'custom_service_id_1', 'service_level_1',\n",
    "       'is_subdep_1', 'is_csid_1', 'dayofweek_1', 'day_part_1', 'month_1', 'week_1', 'year_1',\n",
    "       'person_1', 'sole_1', 'legal_1', 'auto_ping_queue_1',\n",
    "       'requester_type', 'gender']\n",
    "\n",
    "cat = ['service_1', 'service_title_1', 'mfc_1',\n",
    "       'internal_status_1', 'external_status_1',\n",
    "       'department_id_1', 'custom_service_id_1', 'month_1', 'week_1', 'year_1',\n",
    "       'is_subdep_1', 'is_csid_1', 'dayofweek_1', \n",
    "       'requester_type', 'gender']"
   ]
  },
  {
   "cell_type": "code",
   "execution_count": 15,
   "metadata": {},
   "outputs": [],
   "source": [
    "X[cat] = X[cat].astype('Int64')\n",
    "X[cat] = X[cat].astype('object')"
   ]
  },
  {
   "cell_type": "code",
   "execution_count": null,
   "metadata": {},
   "outputs": [],
   "source": [
    "#X[cat] = X[cat].astype('Int64')\n",
    "#X[cat] = X[cat].astype('object')"
   ]
  },
  {
   "cell_type": "code",
   "execution_count": 16,
   "metadata": {},
   "outputs": [],
   "source": [
    "X[categorical] = X[categorical].fillna('NA')"
   ]
  },
  {
   "cell_type": "code",
   "execution_count": 17,
   "metadata": {},
   "outputs": [],
   "source": [
    "def reduce_mem_usage(df):\n",
    "    \"\"\" \n",
    "    iterate through all the columns of a dataframe and \n",
    "    modify the data type to reduce memory usage.        \n",
    "    \"\"\"\n",
    "    start_mem = df.memory_usage().sum() / 1024**2\n",
    "    print(('Memory usage of dataframe is {:.2f}' \n",
    "                     'MB').format(start_mem))\n",
    "    \n",
    "    for col in df.columns:\n",
    "        col_type = df[col].dtype\n",
    "        \n",
    "        if col_type != object:\n",
    "            c_min = df[col].min()\n",
    "            c_max = df[col].max()\n",
    "            if str(col_type)[:3] == 'int':\n",
    "                if c_min > np.iinfo(np.int8).min and c_max <\\\n",
    "                  np.iinfo(np.int8).max:\n",
    "                    df[col] = df[col].astype(np.int8)\n",
    "                elif c_min > np.iinfo(np.int16).min and c_max <\\\n",
    "                   np.iinfo(np.int16).max:\n",
    "                    df[col] = df[col].astype(np.int16)\n",
    "                elif c_min > np.iinfo(np.int32).min and c_max <\\\n",
    "                   np.iinfo(np.int32).max:\n",
    "                    df[col] = df[col].astype(np.int32)\n",
    "                elif c_min > np.iinfo(np.int64).min and c_max <\\\n",
    "                   np.iinfo(np.int64).max:\n",
    "                    df[col] = df[col].astype(np.int64)  \n",
    "            else:\n",
    "                if c_min > np.finfo(np.float16).min and c_max <\\\n",
    "                   np.finfo(np.float16).max:\n",
    "                    df[col] = df[col].astype(np.float16)\n",
    "                elif c_min > np.finfo(np.float32).min and c_max <\\\n",
    "                   np.finfo(np.float32).max:\n",
    "                    df[col] = df[col].astype(np.float32)\n",
    "                else:\n",
    "                    df[col] = df[col].astype(np.float64)\n",
    "        else:\n",
    "            df[col] = df[col].astype('category')\n",
    "    end_mem = df.memory_usage().sum() / 1024**2\n",
    "    print(('Memory usage after optimization is: {:.2f}' \n",
    "                              'MB').format(end_mem))\n",
    "    print('Decreased by {:.1f}%'.format(100 * (start_mem - end_mem) \n",
    "                                             / start_mem))\n",
    "    \n",
    "    return df"
   ]
  },
  {
   "cell_type": "code",
   "execution_count": 18,
   "metadata": {},
   "outputs": [
    {
     "name": "stdout",
     "output_type": "stream",
     "text": [
      "Memory usage of dataframe is 252.21MB\n",
      "Memory usage after optimization is: 75.66MB\n",
      "Decreased by 70.0%\n"
     ]
    }
   ],
   "source": [
    "X = reduce_mem_usage(X)"
   ]
  },
  {
   "cell_type": "code",
   "execution_count": null,
   "metadata": {},
   "outputs": [],
   "source": []
  },
  {
   "cell_type": "code",
   "execution_count": 19,
   "metadata": {},
   "outputs": [],
   "source": [
    "X = X[categorical]"
   ]
  },
  {
   "cell_type": "code",
   "execution_count": 20,
   "metadata": {},
   "outputs": [],
   "source": [
    "X['person_1'] = X['person_1'].astype('int32')\n",
    "X['sole_1'] = X['sole_1'].astype('int32')\n",
    "X['legal_1'] = X['legal_1'].astype('int32')\n",
    "X['auto_ping_queue_1'] = X['auto_ping_queue_1'].astype('int32')"
   ]
  },
  {
   "cell_type": "code",
   "execution_count": 21,
   "metadata": {},
   "outputs": [],
   "source": [
    "from sklearn import preprocessing\n",
    "labeling = []\n",
    "for col in X.columns:\n",
    "    d = pd.DataFrame()\n",
    "    d[col] = X[col].unique()\n",
    "    le = preprocessing.LabelEncoder()\n",
    "    le.fit(d[col])\n",
    "    d[col+'_l'] = le.transform(d[col])\n",
    "    d = d.sort_values(by=[col+'_l']).reset_index(drop=True)\n",
    "    labeling.append(d)"
   ]
  },
  {
   "cell_type": "code",
   "execution_count": 22,
   "metadata": {},
   "outputs": [],
   "source": [
    "d = pd.DataFrame()\n",
    "d['service_title'] = y.unique()\n",
    "le = preprocessing.LabelEncoder()\n",
    "le.fit(d['service_title'])\n",
    "d['service_title'+'_l'] = le.transform(d['service_title'])\n",
    "d = d.sort_values(by=['service_title'+'_l']).reset_index(drop=True)\n",
    "labeling_y = d"
   ]
  },
  {
   "cell_type": "code",
   "execution_count": null,
   "metadata": {},
   "outputs": [],
   "source": [
    "labeling[0]"
   ]
  },
  {
   "cell_type": "code",
   "execution_count": 23,
   "metadata": {},
   "outputs": [],
   "source": [
    "i = 0\n",
    "for col in X.columns:\n",
    "    X[col] = X[col].map(labeling[i].set_index(col).to_dict()[col+'_l'])\n",
    "    i += 1"
   ]
  },
  {
   "cell_type": "code",
   "execution_count": null,
   "metadata": {},
   "outputs": [],
   "source": [
    "X"
   ]
  },
  {
   "cell_type": "code",
   "execution_count": 24,
   "metadata": {},
   "outputs": [],
   "source": [
    "y = y.map(labeling_y.set_index('service_title').to_dict()['service_title'+'_l'])"
   ]
  },
  {
   "cell_type": "code",
   "execution_count": null,
   "metadata": {},
   "outputs": [],
   "source": [
    "for col in X.columns:\n",
    "    print(col, len(X[col].unique()))"
   ]
  },
  {
   "cell_type": "code",
   "execution_count": null,
   "metadata": {},
   "outputs": [],
   "source": [
    "import tensorflow as tf\n",
    "import tensorflow.keras.backend as K\n",
    "from sklearn.model_selection import StratifiedKFold"
   ]
  },
  {
   "cell_type": "code",
   "execution_count": null,
   "metadata": {},
   "outputs": [],
   "source": [
    "# Detect hardware, return appropriate distribution strategy\n",
    "try:\n",
    "    # TPU detection. No parameters necessary if TPU_NAME environment variable is\n",
    "    # set: this is always the case on Kaggle.\n",
    "    tpu = tf.distribute.cluster_resolver.TPUClusterResolver()\n",
    "    print('Running on TPU ', tpu.master())\n",
    "except ValueError:\n",
    "    tpu = None\n",
    "\n",
    "if tpu:\n",
    "    tf.config.experimental_connect_to_cluster(tpu)\n",
    "    tf.tpu.experimental.initialize_tpu_system(tpu)\n",
    "    strategy = tf.distribute.experimental.TPUStrategy(tpu)\n",
    "else:\n",
    "    # Default distribution strategy in Tensorflow. Works on CPU and single GPU.\n",
    "    strategy = tf.distribute.get_strategy()\n",
    "\n",
    "print(\"REPLICAS: \", strategy.num_replicas_in_sync)"
   ]
  },
  {
   "cell_type": "code",
   "execution_count": null,
   "metadata": {},
   "outputs": [],
   "source": [
    "AUTO = tf.data.experimental.AUTOTUNE\n",
    "\n",
    "BATCH_SIZE = 64 * strategy.num_replicas_in_sync\n",
    "LEARNING_RATE = 3e-5 * strategy.num_replicas_in_sync \n",
    "EPOCHS = 5"
   ]
  },
  {
   "cell_type": "code",
   "execution_count": null,
   "metadata": {},
   "outputs": [],
   "source": [
    "X.columns"
   ]
  },
  {
   "cell_type": "code",
   "execution_count": null,
   "metadata": {},
   "outputs": [],
   "source": [
    "X_train, X_test, y_train, y_test = train_test_split(X, y, test_size=0.15)"
   ]
  },
  {
   "cell_type": "code",
   "execution_count": null,
   "metadata": {},
   "outputs": [],
   "source": [
    "y_test.value_counts(normalize=True)"
   ]
  },
  {
   "cell_type": "code",
   "execution_count": null,
   "metadata": {},
   "outputs": [],
   "source": [
    "len(X['service_1'].unique())"
   ]
  },
  {
   "cell_type": "code",
   "execution_count": null,
   "metadata": {},
   "outputs": [],
   "source": [
    "def generate_dataset(idxT, idxV):    \n",
    "    \n",
    "    trn_weights = weights[idxT, ]\n",
    "    val_weights = weights[idxV, ]\n",
    "    #n samples\n",
    "    \n",
    "    trn_input_ids = np.array(X.index)[idxT,]\n",
    "    \n",
    "    # Trainset\n",
    "    trn_input_service_1 = np.array(X['service_1'])[idxT,]\n",
    "    trn_input_service_title_1 = np.array(X['service_title_1'])[idxT,]\n",
    "    trn_input_mfc_1 = np.array(X['mfc_1'])[idxT,]\n",
    "    trn_input_internal_status_1 = np.array(X['internal_status_1'])[idxT,]\n",
    "    trn_input_external_status_1 = np.array(X['external_status_1'])[idxT,]\n",
    "    trn_input_order_type_1 = np.array(X['order_type_1'])[idxT,]\n",
    "    trn_input_department_id_1 = np.array(X['department_id_1'])[idxT,]\n",
    "    trn_input_custom_service_id_1 = np.array(X['custom_service_id_1'])[idxT,]\n",
    "    trn_input_service_level_1 = np.array(X['service_level_1'])[idxT,]\n",
    "    trn_input_is_subdep_1 = np.array(X['is_subdep_1'])[idxT,]\n",
    "    trn_input_is_csid_1 = np.array(X['is_csid_1'])[idxT,]\n",
    "    trn_input_dayofweek_1 = np.array(X['dayofweek_1'])[idxT,]\n",
    "    trn_input_day_part_1 = np.array(X['day_part_1'])[idxT,]\n",
    "    trn_input_month_1 = np.array(X['month_1'])[idxT,]\n",
    "    trn_input_week_1 = np.array(X['week_1'])[idxT,]\n",
    "    trn_input_year_1 = np.array(X['year_1'])[idxT,]\n",
    "    trn_input_person_1 = np.array(X['person_1'])[idxT,]\n",
    "    trn_input_sole_1 = np.array(X['sole_1'])[idxT,]\n",
    "    trn_input_legal_1 = np.array(X['legal_1'])[idxT,]\n",
    "    trn_input_auto_ping_queue_1 = np.array(X['auto_ping_queue_1'])[idxT,]\n",
    "    trn_input_requester_type = np.array(X['requester_type'])[idxT,]\n",
    "    trn_input_gender = np.array(X['gender'])[idxT,]\n",
    "    \n",
    "    \n",
    "    trn_service_title = np.array(pd.get_dummies(y))[idxT,].astype('int32')\n",
    "    \n",
    "    # Validation set\n",
    "    val_input_service_1 = np.array(X['service_1'])[idxV,]\n",
    "    val_input_service_title_1 = np.array(X['service_title_1'])[idxV,]\n",
    "    val_input_mfc_1 = np.array(X['mfc_1'])[idxV,]\n",
    "    val_input_internal_status_1 = np.array(X['internal_status_1'])[idxV,]\n",
    "    val_input_external_status_1 = np.array(X['external_status_1'])[idxV,]\n",
    "    val_input_order_type_1 = np.array(X['order_type_1'])[idxV,]\n",
    "    val_input_department_id_1 = np.array(X['department_id_1'])[idxV,]\n",
    "    val_input_custom_service_id_1 = np.array(X['custom_service_id_1'])[idxV,]\n",
    "    val_input_service_level_1 = np.array(X['service_level_1'])[idxV,]\n",
    "    val_input_is_subdep_1 = np.array(X['is_subdep_1'])[idxV,]\n",
    "    val_input_is_csid_1 = np.array(X['is_csid_1'])[idxV,]\n",
    "    val_input_dayofweek_1 = np.array(X['dayofweek_1'])[idxV,]\n",
    "    val_input_day_part_1 = np.array(X['day_part_1'])[idxV,]\n",
    "    val_input_month_1 = np.array(X['month_1'])[idxV,]\n",
    "    val_input_week_1 = np.array(X['week_1'])[idxV,]\n",
    "    val_input_year_1 = np.array(X['year_1'])[idxV,]\n",
    "    val_input_person_1 = np.array(X['person_1'])[idxV,]\n",
    "    val_input_sole_1 = np.array(X['sole_1'])[idxV,]\n",
    "    val_input_legal_1 = np.array(X['legal_1'])[idxV,]\n",
    "    val_input_auto_ping_queue_1 = np.array(X['auto_ping_queue_1'])[idxV,]\n",
    "    val_input_requester_type = np.array(X['requester_type'])[idxV,]\n",
    "    val_input_gender = np.array(X['gender'])[idxV,]\n",
    "    \n",
    "    \n",
    "    val_service_title = np.array(pd.get_dummies(y))[idxV,].astype('int32')\n",
    "    \n",
    "    # Generating tf.data object\n",
    "    train_dataset = (\n",
    "        tf.data.Dataset\n",
    "        .from_tensor_slices(({'service_1':trn_input_service_1, \n",
    "                              'service_title_1': trn_input_service_title_1,\n",
    "                              'mfc_1': trn_input_mfc_1,\n",
    "                              'internal_status_1': trn_input_internal_status_1,\n",
    "                              'external_status_1': trn_input_external_status_1,\n",
    "                              'order_type_1': trn_input_order_type_1,\n",
    "                              'department_id_1': trn_input_department_id_1,\n",
    "                              'custom_service_id_1': trn_input_custom_service_id_1,\n",
    "                              'service_level_1': trn_input_service_level_1,\n",
    "                              'is_subdep_1': trn_input_is_subdep_1,\n",
    "                              'is_csid_1': trn_input_is_csid_1,\n",
    "                              'dayofweek_1': trn_input_dayofweek_1,\n",
    "                              'day_part_1': trn_input_day_part_1,\n",
    "                              'month_1': trn_input_month_1,\n",
    "                              'week_1': trn_input_week_1,\n",
    "                              'year_1': trn_input_year_1,\n",
    "                              'person_1': trn_input_person_1,\n",
    "                              'sole_1': trn_input_sole_1,\n",
    "                              'legal_1': trn_input_legal_1,\n",
    "                              'auto_ping_queue_1': trn_input_auto_ping_queue_1,\n",
    "                              'requester_type': trn_input_requester_type,\n",
    "                              'gender': trn_input_gender}, \n",
    "                             {'service_title': trn_service_title}, trn_weights))\n",
    "        .shuffle(2048)\n",
    "        .batch(BATCH_SIZE)\n",
    "        .prefetch(AUTO)\n",
    "    )\n",
    "    \n",
    "    valid_dataset = (\n",
    "        tf.data.Dataset\n",
    "        .from_tensor_slices(({'service_1':val_input_service_1, \n",
    "                              'service_title_1': val_input_service_title_1,\n",
    "                              'mfc_1': val_input_mfc_1,\n",
    "                              'internal_status_1': val_input_internal_status_1,\n",
    "                              'external_status_1': val_input_external_status_1,\n",
    "                              'order_type_1': val_input_order_type_1,\n",
    "                              'department_id_1': val_input_department_id_1,\n",
    "                              'custom_service_id_1': val_input_custom_service_id_1,\n",
    "                              'service_level_1': val_input_service_level_1,\n",
    "                              'is_subdep_1': val_input_is_subdep_1,\n",
    "                              'is_csid_1': val_input_is_csid_1,\n",
    "                              'dayofweek_1': val_input_dayofweek_1,\n",
    "                              'day_part_1': val_input_day_part_1,\n",
    "                              'month_1': val_input_month_1,\n",
    "                              'week_1': val_input_week_1,\n",
    "                              'year_1': val_input_year_1,\n",
    "                              'person_1': val_input_person_1,\n",
    "                              'sole_1': val_input_sole_1,\n",
    "                              'legal_1': val_input_legal_1,\n",
    "                              'auto_ping_queue_1': val_input_auto_ping_queue_1,\n",
    "                              'requester_type': val_input_requester_type,\n",
    "                              'gender': val_input_gender}, \n",
    "                             {'service_title': val_service_title}, val_weights))\n",
    "        .batch(BATCH_SIZE)\n",
    "        .cache()\n",
    "        .prefetch(AUTO)\n",
    "    )\n",
    "    \n",
    "    return trn_input_ids.shape[0]//BATCH_SIZE, train_dataset, valid_dataset"
   ]
  },
  {
   "cell_type": "code",
   "execution_count": null,
   "metadata": {},
   "outputs": [],
   "source": [
    "def scheduler(epoch):\n",
    "    return LEARNING_RATE * 0.2**epoch"
   ]
  },
  {
   "cell_type": "code",
   "execution_count": null,
   "metadata": {},
   "outputs": [],
   "source": [
    "np.array(pd.get_dummies(y))[[0, 1],].astype('int32')"
   ]
  },
  {
   "cell_type": "code",
   "execution_count": null,
   "metadata": {},
   "outputs": [],
   "source": [
    "def build_model():\n",
    "    service_1 = tf.keras.layers.Input((1,), dtype=tf.int32, name='service_1')\n",
    "    service_title_1 = tf.keras.layers.Input((1,), dtype=tf.int32, name='service_title_1')\n",
    "    mfc_1 = tf.keras.layers.Input((1,), dtype=tf.int32, name='mfc_1')\n",
    "    internal_status_1 = tf.keras.layers.Input((1,), dtype=tf.int32, name='internal_status_1')\n",
    "    external_status_1 = tf.keras.layers.Input((1,), dtype=tf.int32, name='external_status_1')\n",
    "    order_type_1 = tf.keras.layers.Input((1,), dtype=tf.int32, name='order_type_1')\n",
    "    department_id_1 = tf.keras.layers.Input((1,), dtype=tf.int32, name='department_id_1')\n",
    "    custom_service_id_1 = tf.keras.layers.Input((1,), dtype=tf.int32, name='custom_service_id_1')\n",
    "    service_level_1 = tf.keras.layers.Input((1,), dtype=tf.int32, name='service_level_1')\n",
    "    is_subdep_1 = tf.keras.layers.Input((1,), dtype=tf.int32, name='is_subdep_1')\n",
    "    is_csid_1 = tf.keras.layers.Input((1,), dtype=tf.int32, name='is_csid_1')\n",
    "    dayofweek_1 = tf.keras.layers.Input((1,), dtype=tf.int32, name='dayofweek_1')\n",
    "    day_part_1 = tf.keras.layers.Input((1,), dtype=tf.int32, name='day_part_1')\n",
    "    month_1 = tf.keras.layers.Input((1,), dtype=tf.int32, name='month_1')\n",
    "    week_1 = tf.keras.layers.Input((1,), dtype=tf.int32, name='week_1')\n",
    "    year_1 = tf.keras.layers.Input((1,), dtype=tf.int32, name='year_1')\n",
    "    person_1 = tf.keras.layers.Input((1,), dtype=tf.int32, name='person_1')\n",
    "    sole_1 = tf.keras.layers.Input((1,), dtype=tf.int32, name='sole_1')\n",
    "    legal_1 = tf.keras.layers.Input((1,), dtype=tf.int32, name='legal_1')\n",
    "    auto_ping_queue_1 = tf.keras.layers.Input((1,), dtype=tf.int32, name='auto_ping_queue_1')\n",
    "    requester_type = tf.keras.layers.Input((1,), dtype=tf.int32, name='requester_type')\n",
    "    gender = tf.keras.layers.Input((1,), dtype=tf.int32, name='gender')\n",
    "    \n",
    "    service_1_embedding = tf.keras.layers.Embedding(len(X['service_1'].unique()), 11, input_length=1, name='service_1_embedding')(service_1)\n",
    "    service_title_1_embedding = tf.keras.layers.Embedding(len(X['service_title_1'].unique()), 50, input_length=1, name='service_title_1_embedding')(service_title_1)\n",
    "    mfc_1_embedding = tf.keras.layers.Embedding(len(X['mfc_1'].unique()), 50, input_length=1, name='mfc_1_embedding')(mfc_1)\n",
    "    internal_status_1_embedding = tf.keras.layers.Embedding(len(X['internal_status_1'].unique()), 5, input_length=1, name='internal_status_1_embedding')(internal_status_1)\n",
    "    external_status_1_embedding = tf.keras.layers.Embedding(len(X['external_status_1'].unique()), 14, input_length=1, name='external_status_1_embedding')(external_status_1)\n",
    "    order_type_1_embedding = tf.keras.layers.Embedding(len(X['order_type_1'].unique()), 2, input_length=1, name='order_type_1_embedding')(order_type_1)\n",
    "    department_id_1_embedding = tf.keras.layers.Embedding(len(X['department_id_1'].unique()), 46, input_length=1, name='department_id_1_embedding')(department_id_1)\n",
    "    custom_service_id_1_embedding = tf.keras.layers.Embedding(len(X['custom_service_id_1'].unique()), 26, input_length=1, name='custom_service_id_1_embedding')(custom_service_id_1)\n",
    "    service_level_1_embedding = tf.keras.layers.Embedding(len(X['service_level_1'].unique()), 3, input_length=1, name='service_level_1_embedding')(service_level_1)\n",
    "    is_subdep_1_embedding = tf.keras.layers.Embedding(len(X['is_subdep_1'].unique()), 1, input_length=1, name='is_subdep_1_embedding')(is_subdep_1)\n",
    "    is_csid_1_embedding = tf.keras.layers.Embedding(len(X['is_csid_1'].unique()), 1, input_length=1, name='is_csid_1_embedding')(is_csid_1)\n",
    "    dayofweek_1_embedding = tf.keras.layers.Embedding(len(X['dayofweek_1'].unique()), 4, input_length=1, name='dayofweek_1_embedding')(dayofweek_1)\n",
    "    day_part_1_embedding = tf.keras.layers.Embedding(len(X['day_part_1'].unique()), 2, input_length=1, name='day_part_1_embedding')(day_part_1)\n",
    "    month_1_embedding = tf.keras.layers.Embedding(len(X['month_1'].unique()), 6, input_length=1, name='month_1_embedding')(month_1)\n",
    "    week_1_embedding = tf.keras.layers.Embedding(len(X['week_1'].unique()), 26, input_length=1, name='week_1_embedding')(week_1)\n",
    "    year_1_embedding = tf.keras.layers.Embedding(len(X['year_1'].unique()), 1, input_length=1, name='year_1_embedding')(year_1)\n",
    "    person_1_embedding = tf.keras.layers.Embedding(len(X['person_1'].unique()), 1, input_length=1, name='person_1_embedding')(person_1)\n",
    "    sole_1_embedding = tf.keras.layers.Embedding(len(X['sole_1'].unique()), 1, input_length=1, name='sole_1_embedding')(sole_1)\n",
    "    legal_1_embedding = tf.keras.layers.Embedding(len(X['legal_1'].unique()), 1, input_length=1, name='legal_1_embedding')(legal_1)\n",
    "    auto_ping_queue_1_embedding = tf.keras.layers.Embedding(len(X['auto_ping_queue_1'].unique()), 1, input_length=1, name='auto_ping_queue_1_embedding')(auto_ping_queue_1)\n",
    "    requester_type_embedding = tf.keras.layers.Embedding(len(X['requester_type'].unique()), 2, input_length=1, name='requester_type_embedding')(requester_type)\n",
    "    gender_embedding = tf.keras.layers.Embedding(len(X['gender'].unique()), 1, input_length=1, name='gender_embedding')(gender)\n",
    "\n",
    "    concatenated = tf.keras.layers.Concatenate()([service_1_embedding, \n",
    "                                                  service_title_1_embedding,\n",
    "                                                 mfc_1_embedding,\n",
    "                                                 internal_status_1_embedding,\n",
    "                                                 external_status_1_embedding,\n",
    "                                                 order_type_1_embedding,\n",
    "                                                 department_id_1_embedding,\n",
    "                                                 custom_service_id_1_embedding,\n",
    "                                                 service_level_1_embedding,\n",
    "                                                 is_subdep_1_embedding,\n",
    "                                                 is_csid_1_embedding,\n",
    "                                                 dayofweek_1_embedding,\n",
    "                                                 day_part_1_embedding,\n",
    "                                                 month_1_embedding,\n",
    "                                                 year_1_embedding,\n",
    "                                                 person_1_embedding,\n",
    "                                                 sole_1_embedding,\n",
    "                                                 legal_1_embedding,\n",
    "                                                 auto_ping_queue_1_embedding,\n",
    "                                                 requester_type_embedding,\n",
    "                                                 gender_embedding])\n",
    "    #out = tf.keras.layers.Flatten()(concatenated)\n",
    "    \n",
    "    #out = tf.keras.layers.Dense(512, activation='relu')(out)\n",
    "    #out = tf.keras.layers.Dense(256, activation='relu')(out)\n",
    "    #out = tf.keras.layers.Dense(256, activation='relu')(out)\n",
    "    #out = tf.keras.layers.Conv1D(128, 2, padding='same')(concatenated)\n",
    "    #out = tf.keras.layers.LeakyReLU()(out)\n",
    "    #out = tf.keras.layers.Conv1D(64, 2, padding='same')(out)\n",
    "    #out = tf.keras.layers.Flatten()(out)\n",
    "    conv_0 = tf.keras.layers.Conv1D(128, 3, padding='same', activation='relu')(concatenated)\n",
    "    conv_1 = tf.keras.layers.Conv1D(128, 2, padding='same', activation='relu')(concatenated)\n",
    "    conv_2 = tf.keras.layers.Conv1D(128, 6, padding='same', activation='relu')(concatenated)\n",
    "    conv_0 = tf.keras.layers.Conv1D(64, 3, padding='same', activation='relu')(conv_0)\n",
    "    conv_1 = tf.keras.layers.Conv1D(64, 2, padding='same', activation='relu')(conv_1)\n",
    "    conv_2 = tf.keras.layers.Conv1D(64, 6, padding='same', activation='relu')(conv_2)\n",
    "    concatenated_tensor = tf.keras.layers.Concatenate(axis=1)([conv_0, conv_1, conv_2])\n",
    "    out = tf.keras.layers.Flatten()(concatenated_tensor)\n",
    "    \n",
    "    out = tf.keras.layers.Dense(len(y.unique()), activation='softmax', name='service_title')(out)\n",
    "\n",
    "    model = tf.keras.models.Model(inputs=[service_1, \n",
    "                                          service_title_1, \n",
    "                                          mfc_1,\n",
    "                                         internal_status_1,\n",
    "                                         external_status_1,\n",
    "                                         order_type_1,\n",
    "                                         department_id_1,\n",
    "                                         custom_service_id_1,\n",
    "                                         service_level_1,\n",
    "                                         is_subdep_1,\n",
    "                                         is_csid_1,\n",
    "                                         dayofweek_1,\n",
    "                                         day_part_1,\n",
    "                                         month_1,\n",
    "                                         week_1,\n",
    "                                         year_1,\n",
    "                                         person_1,\n",
    "                                         sole_1,\n",
    "                                         legal_1,\n",
    "                                         auto_ping_queue_1,\n",
    "                                         requester_type,\n",
    "                                         gender], \n",
    "                                  outputs=out)\n",
    "\n",
    "    optimizer = tf.keras.optimizers.Adam(learning_rate=LEARNING_RATE)\n",
    "    model.compile(loss = 'categorical_crossentropy', optimizer=optimizer, metrics=[\"accuracy\"])\n",
    "\n",
    "    return model"
   ]
  },
  {
   "cell_type": "code",
   "execution_count": null,
   "metadata": {},
   "outputs": [],
   "source": [
    "inputs = [np.array(X_test['service_1']),\n",
    "np.array(X_test['service_title_1']),\n",
    "np.array(X_test['mfc_1']),\n",
    "np.array(X_test['internal_status_1']),\n",
    "np.array(X_test['external_status_1']),\n",
    "np.array(X_test['order_type_1']),\n",
    "np.array(X_test['department_id_1']),\n",
    "np.array(X_test['custom_service_id_1']),\n",
    "np.array(X_test['service_level_1']),\n",
    "np.array(X_test['is_subdep_1']),\n",
    "np.array(X_test['is_csid_1']),\n",
    "np.array(X_test['dayofweek_1']),\n",
    "np.array(X_test['day_part_1']),\n",
    "np.array(X_test['month_1']),\n",
    "np.array(X_test['week_1']),\n",
    "np.array(X_test['year_1']),\n",
    "np.array(X_test['person_1']),\n",
    "np.array(X_test['sole_1']),\n",
    "np.array(X_test['legal_1']),\n",
    "np.array(X_test['auto_ping_queue_1']),\n",
    "np.array(X_test['requester_type']),\n",
    "np.array(X_test['gender'])]"
   ]
  },
  {
   "cell_type": "code",
   "execution_count": null,
   "metadata": {},
   "outputs": [],
   "source": [
    "kfold_preds = np.zeros((X_test.shape[0], labeling_y.shape[0]))\n",
    "n_splits = 5\n",
    "for i in range(5):\n",
    "    print('#'*25)\n",
    "    print('### MODEL %i'%(i+1))\n",
    "    print('#'*25)\n",
    "    \n",
    "    K.clear_session()\n",
    "    model = build_model()\n",
    "    model.load_weights('../input/categorical-embedding-v2/v6-learnedemb-%i.h5'%i)\n",
    "\n",
    "    print('Predicting Test...')\n",
    "    preds = model.predict(inputs,verbose=True)\n",
    "    kfold_preds += preds/n_splits"
   ]
  },
  {
   "cell_type": "code",
   "execution_count": null,
   "metadata": {},
   "outputs": [],
   "source": [
    "y_pred = []\n",
    "for k in range(y_test.shape[0]):\n",
    "    a = np.argmax(preds[k,])\n",
    "    y_pred.append(a)"
   ]
  },
  {
   "cell_type": "code",
   "execution_count": null,
   "metadata": {},
   "outputs": [],
   "source": [
    "accuracy_score(y_pred, y_test)"
   ]
  },
  {
   "cell_type": "code",
   "execution_count": 25,
   "metadata": {},
   "outputs": [],
   "source": [
    "df = pd.read_csv(\"../input/feature-creating/train_3lags_v1.csv\", low_memory=False)"
   ]
  },
  {
   "cell_type": "code",
   "execution_count": 26,
   "metadata": {},
   "outputs": [],
   "source": [
    "sab = pd.read_csv(\"../input/irkutsk/sample_submission.csv\")\n",
    "\n",
    "sab_pred = sab[['requester']]\n",
    "\n",
    "sab_pred = pd.merge(sab_pred, df, how='left', on='requester')\n",
    "\n",
    "sab_pred.drop(['service_3',\n",
    "'service_title_3',\n",
    "'mfc_3',\n",
    "'internal_status_3',\n",
    "'external_status_3',\n",
    "'order_type_3',\n",
    "'department_id_3',\n",
    "'custom_service_id_3',\n",
    "'service_level_3',\n",
    "'is_subdep_3',\n",
    "'is_csid_3',\n",
    "'proc_time_3',\n",
    "'dayofweek_3',\n",
    "'day_part_3',\n",
    "'person_3',\n",
    "'sole_3',\n",
    "'legal_3',\n",
    "'auto_ping_queue_3',\n",
    "'win_count_3', 'year_3', 'month_3', 'week_3'], axis=1 , inplace=True)\n",
    "\n",
    "sab_pred.drop(['requester'], axis=1, inplace=True)"
   ]
  },
  {
   "cell_type": "code",
   "execution_count": null,
   "metadata": {},
   "outputs": [],
   "source": [
    "df2.head()"
   ]
  },
  {
   "cell_type": "code",
   "execution_count": null,
   "metadata": {},
   "outputs": [],
   "source": [
    "sab_pred.head()"
   ]
  },
  {
   "cell_type": "code",
   "execution_count": null,
   "metadata": {},
   "outputs": [],
   "source": [
    "df2['age'].value_counts(normalize=True)"
   ]
  },
  {
   "cell_type": "code",
   "execution_count": 38,
   "metadata": {},
   "outputs": [
    {
     "data": {
      "text/plain": [
       "1    0.538565\n",
       "0    0.461435\n",
       "Name: gender, dtype: float64"
      ]
     },
     "execution_count": 38,
     "metadata": {},
     "output_type": "execute_result"
    }
   ],
   "source": [
    "sab_pred['gender'].value_counts(normalize=True)"
   ]
  },
  {
   "cell_type": "code",
   "execution_count": null,
   "metadata": {},
   "outputs": [],
   "source": [
    "sab_pred.columns"
   ]
  },
  {
   "cell_type": "code",
   "execution_count": 27,
   "metadata": {},
   "outputs": [],
   "source": [
    "sab_pred.drop(['service_2',\n",
    "'service_title_2',\n",
    "'mfc_2',\n",
    "'internal_status_2',\n",
    "'external_status_2',\n",
    "'order_type_2',\n",
    "'department_id_2',\n",
    "'custom_service_id_2',\n",
    "'service_level_2',\n",
    "'is_subdep_2',\n",
    "'is_csid_2',\n",
    "'proc_time_2',\n",
    "'dayofweek_2',\n",
    "'day_part_2',\n",
    "'person_2',\n",
    "'sole_2',\n",
    "'legal_2',\n",
    "'auto_ping_queue_2',\n",
    "'win_count_2',\n",
    "'month_2',\n",
    "'week_2',\n",
    "'year_2'], axis=1 , inplace=True)\n",
    "\n",
    "sab_pred.drop(['service_1',\n",
    "'service_title_1',\n",
    "'mfc_1',\n",
    "'internal_status_1',\n",
    "'external_status_1',\n",
    "'order_type_1',\n",
    "'department_id_1',\n",
    "'custom_service_id_1',\n",
    "'service_level_1',\n",
    "'is_subdep_1',\n",
    "'is_csid_1',\n",
    "'proc_time_1',\n",
    "'dayofweek_1',\n",
    "'day_part_1',\n",
    "'person_1',\n",
    "'sole_1',\n",
    "'legal_1',\n",
    "'auto_ping_queue_1',\n",
    "'win_count_1',\n",
    "'month_1',\n",
    "'week_1',\n",
    "'year_1'], axis=1 , inplace=True)"
   ]
  },
  {
   "cell_type": "code",
   "execution_count": null,
   "metadata": {},
   "outputs": [],
   "source": [
    "sab_pred.columns"
   ]
  },
  {
   "cell_type": "code",
   "execution_count": null,
   "metadata": {},
   "outputs": [],
   "source": [
    "X.columns"
   ]
  },
  {
   "cell_type": "code",
   "execution_count": 28,
   "metadata": {},
   "outputs": [],
   "source": [
    "sab_pred.drop(['proc_time', 'win_count', 'age', 'order_count'], axis=1, inplace=True)"
   ]
  },
  {
   "cell_type": "code",
   "execution_count": 29,
   "metadata": {},
   "outputs": [],
   "source": [
    "new_cols=X.columns\n",
    "sab_pred.rename(columns=dict(zip(sab_pred.columns, new_cols)),inplace=True)\n",
    "sab_pred[cat] = sab_pred[cat].astype('Int64')\n",
    "sab_pred[cat] = sab_pred[cat].astype('object')\n",
    "#sab_pred[categorical] = sab_pred[categorical].fillna('NA')\n",
    "#sab_pred = reduce_mem_usage(sab_pred)"
   ]
  },
  {
   "cell_type": "code",
   "execution_count": 30,
   "metadata": {},
   "outputs": [],
   "source": [
    "sab_pred['person_1'] = sab_pred['person_1'].map({True: 1, False:0})\n",
    "sab_pred['sole_1'] = sab_pred['sole_1'].map({True: 1, False:0})\n",
    "sab_pred['legal_1'] = sab_pred['legal_1'].map({True: 1, False:0})\n",
    "sab_pred['auto_ping_queue_1'] = sab_pred['auto_ping_queue_1'].map({True: 1, False:0})"
   ]
  },
  {
   "cell_type": "code",
   "execution_count": 31,
   "metadata": {},
   "outputs": [],
   "source": [
    "i = 0\n",
    "for col in sab_pred.columns:\n",
    "    sab_pred[col] = sab_pred[col].map(labeling[i].set_index(col).to_dict()[col+'_l'])\n",
    "    i += 1"
   ]
  },
  {
   "cell_type": "code",
   "execution_count": 32,
   "metadata": {},
   "outputs": [],
   "source": [
    "sab_pred.fillna(0, inplace=True)"
   ]
  },
  {
   "cell_type": "code",
   "execution_count": 33,
   "metadata": {},
   "outputs": [],
   "source": [
    "toint = ['service_1', 'service_title_1', 'mfc_1', 'order_type_1', 'person_1', 'sole_1', 'auto_ping_queue_1', 'day_part_1',\n",
    "       'internal_status_1', 'external_status_1', 'service_level_1', 'legal_1',\n",
    "       'department_id_1', 'custom_service_id_1', 'month_1', 'week_1', 'year_1',\n",
    "       'is_subdep_1', 'is_csid_1', 'dayofweek_1', \n",
    "       'requester_type', 'gender']"
   ]
  },
  {
   "cell_type": "code",
   "execution_count": 34,
   "metadata": {},
   "outputs": [],
   "source": [
    "sab_pred[toint] = sab_pred[toint].astype('int64')"
   ]
  },
  {
   "cell_type": "code",
   "execution_count": 35,
   "metadata": {},
   "outputs": [],
   "source": [
    "sab_pred['order_type_1'] = sab_pred['order_type_1'].astype('category')\n",
    "sab_pred['service_level_1'] = sab_pred['service_level_1'].astype('category')\n",
    "sab_pred['day_part_1'] = sab_pred['day_part_1'].astype('category')"
   ]
  },
  {
   "cell_type": "code",
   "execution_count": null,
   "metadata": {},
   "outputs": [],
   "source": [
    "inputs_t = [np.array(sab_pred['service_1']),\n",
    "np.array(sab_pred['service_title_1']),\n",
    "np.array(sab_pred['mfc_1']),\n",
    "np.array(sab_pred['internal_status_1']),\n",
    "np.array(sab_pred['external_status_1']),\n",
    "np.array(sab_pred['order_type_1']),\n",
    "np.array(sab_pred['department_id_1']),\n",
    "np.array(sab_pred['custom_service_id_1']),\n",
    "np.array(sab_pred['service_level_1']),\n",
    "np.array(sab_pred['is_subdep_1']),\n",
    "np.array(sab_pred['is_csid_1']),\n",
    "np.array(sab_pred['dayofweek_1']),\n",
    "np.array(sab_pred['day_part_1']),\n",
    "np.array(sab_pred['month_1']),\n",
    "np.array(sab_pred['week_1']),\n",
    "np.array(sab_pred['year_1']),\n",
    "np.array(sab_pred['person_1']),\n",
    "np.array(sab_pred['sole_1']),\n",
    "np.array(sab_pred['legal_1']),\n",
    "np.array(sab_pred['auto_ping_queue_1']),\n",
    "np.array(sab_pred['requester_type']),\n",
    "np.array(sab_pred['gender'])]"
   ]
  },
  {
   "cell_type": "code",
   "execution_count": null,
   "metadata": {},
   "outputs": [],
   "source": [
    "kfold_preds = np.zeros((sab_pred.shape[0], labeling_y.shape[0]))\n",
    "n_splits = 5\n",
    "for i in range(5):\n",
    "    print('#'*25)\n",
    "    print('### MODEL %i'%(i+1))\n",
    "    print('#'*25)\n",
    "    \n",
    "    K.clear_session()\n",
    "    model = build_model()\n",
    "    model.load_weights('../input/categorical-embedding-v2/v6-learnedemb-%i.h5'%i)\n",
    "\n",
    "    print('Predicting Test...')\n",
    "    preds = model.predict(inputs_t,verbose=True)\n",
    "    kfold_preds += preds/n_splits"
   ]
  },
  {
   "cell_type": "code",
   "execution_count": null,
   "metadata": {},
   "outputs": [],
   "source": [
    "y_pred = []\n",
    "for k in range(sab_pred.shape[0]):\n",
    "    a = np.argmax(kfold_preds[k,])\n",
    "    y_pred.append(a)"
   ]
  },
  {
   "cell_type": "code",
   "execution_count": null,
   "metadata": {},
   "outputs": [],
   "source": [
    "sab['service_title'] = y_pred"
   ]
  },
  {
   "cell_type": "code",
   "execution_count": null,
   "metadata": {},
   "outputs": [],
   "source": [
    "sab['service_title'] = sab['service_title'].map(labeling_y.set_index('service_title_l').to_dict()['service_title'])"
   ]
  },
  {
   "cell_type": "code",
   "execution_count": null,
   "metadata": {},
   "outputs": [],
   "source": [
    "sab['service_title'].value_counts(normalize=True)[:30]"
   ]
  },
  {
   "cell_type": "code",
   "execution_count": null,
   "metadata": {},
   "outputs": [],
   "source": [
    "sab.to_csv('nn_sub_5fold_6.csv', index=False)"
   ]
  },
  {
   "cell_type": "code",
   "execution_count": 55,
   "metadata": {},
   "outputs": [],
   "source": [
    "from sklearn.preprocessing import StandardScaler\n",
    "from kmodes.kprototypes import KPrototypes"
   ]
  },
  {
   "cell_type": "code",
   "execution_count": 42,
   "metadata": {},
   "outputs": [],
   "source": [
    "sab_pred2 = sab[['requester']]\n",
    "\n",
    "sab_pred2 = pd.merge(sab_pred2, df, how='left', on='requester')"
   ]
  },
  {
   "cell_type": "code",
   "execution_count": 44,
   "metadata": {},
   "outputs": [],
   "source": [
    "sab_pred['age'] = sab_pred2['age']"
   ]
  },
  {
   "cell_type": "code",
   "execution_count": 46,
   "metadata": {},
   "outputs": [],
   "source": [
    "sab_pred.fillna(0, inplace=True)"
   ]
  },
  {
   "cell_type": "code",
   "execution_count": 49,
   "metadata": {},
   "outputs": [],
   "source": [
    "sab_cluster = sab_pred[['service_title_1', 'external_status_1', 'order_type_1', 'department_id_1', 'custom_service_id_1', 'service_level_1', 'requester_type', 'gender', 'age']]"
   ]
  },
  {
   "cell_type": "code",
   "execution_count": 56,
   "metadata": {},
   "outputs": [
    {
     "name": "stderr",
     "output_type": "stream",
     "text": [
      "/opt/conda/lib/python3.7/site-packages/ipykernel_launcher.py:3: SettingWithCopyWarning: \n",
      "A value is trying to be set on a copy of a slice from a DataFrame.\n",
      "Try using .loc[row_indexer,col_indexer] = value instead\n",
      "\n",
      "See the caveats in the documentation: https://pandas.pydata.org/pandas-docs/stable/user_guide/indexing.html#returning-a-view-versus-a-copy\n",
      "  This is separate from the ipykernel package so we can avoid doing imports until\n",
      "/opt/conda/lib/python3.7/site-packages/pandas/core/indexing.py:966: SettingWithCopyWarning: \n",
      "A value is trying to be set on a copy of a slice from a DataFrame.\n",
      "Try using .loc[row_indexer,col_indexer] = value instead\n",
      "\n",
      "See the caveats in the documentation: https://pandas.pydata.org/pandas-docs/stable/user_guide/indexing.html#returning-a-view-versus-a-copy\n",
      "  self.obj[item] = s\n"
     ]
    }
   ],
   "source": [
    "scaler = StandardScaler()\n",
    "scaler.fit(sab_cluster[['age']])\n",
    "sab_cluster[['age']] = scaler.transform(sab_cluster[['age']])"
   ]
  },
  {
   "cell_type": "code",
   "execution_count": 57,
   "metadata": {},
   "outputs": [
    {
     "data": {
      "text/html": [
       "<div>\n",
       "<style scoped>\n",
       "    .dataframe tbody tr th:only-of-type {\n",
       "        vertical-align: middle;\n",
       "    }\n",
       "\n",
       "    .dataframe tbody tr th {\n",
       "        vertical-align: top;\n",
       "    }\n",
       "\n",
       "    .dataframe thead th {\n",
       "        text-align: right;\n",
       "    }\n",
       "</style>\n",
       "<table border=\"1\" class=\"dataframe\">\n",
       "  <thead>\n",
       "    <tr style=\"text-align: right;\">\n",
       "      <th></th>\n",
       "      <th>service_title_1</th>\n",
       "      <th>external_status_1</th>\n",
       "      <th>order_type_1</th>\n",
       "      <th>department_id_1</th>\n",
       "      <th>custom_service_id_1</th>\n",
       "      <th>service_level_1</th>\n",
       "      <th>requester_type</th>\n",
       "      <th>gender</th>\n",
       "      <th>age</th>\n",
       "    </tr>\n",
       "  </thead>\n",
       "  <tbody>\n",
       "    <tr>\n",
       "      <th>0</th>\n",
       "      <td>993</td>\n",
       "      <td>4</td>\n",
       "      <td>0</td>\n",
       "      <td>16</td>\n",
       "      <td>18</td>\n",
       "      <td>4</td>\n",
       "      <td>0</td>\n",
       "      <td>1</td>\n",
       "      <td>-0.267723</td>\n",
       "    </tr>\n",
       "    <tr>\n",
       "      <th>1</th>\n",
       "      <td>48</td>\n",
       "      <td>4</td>\n",
       "      <td>0</td>\n",
       "      <td>16</td>\n",
       "      <td>1</td>\n",
       "      <td>4</td>\n",
       "      <td>0</td>\n",
       "      <td>0</td>\n",
       "      <td>-0.527816</td>\n",
       "    </tr>\n",
       "    <tr>\n",
       "      <th>2</th>\n",
       "      <td>110</td>\n",
       "      <td>21</td>\n",
       "      <td>3</td>\n",
       "      <td>8</td>\n",
       "      <td>28</td>\n",
       "      <td>0</td>\n",
       "      <td>0</td>\n",
       "      <td>0</td>\n",
       "      <td>1.136780</td>\n",
       "    </tr>\n",
       "    <tr>\n",
       "      <th>3</th>\n",
       "      <td>742</td>\n",
       "      <td>4</td>\n",
       "      <td>3</td>\n",
       "      <td>15</td>\n",
       "      <td>0</td>\n",
       "      <td>0</td>\n",
       "      <td>0</td>\n",
       "      <td>0</td>\n",
       "      <td>-0.423779</td>\n",
       "    </tr>\n",
       "    <tr>\n",
       "      <th>4</th>\n",
       "      <td>493</td>\n",
       "      <td>21</td>\n",
       "      <td>3</td>\n",
       "      <td>72</td>\n",
       "      <td>25</td>\n",
       "      <td>0</td>\n",
       "      <td>0</td>\n",
       "      <td>1</td>\n",
       "      <td>-0.111667</td>\n",
       "    </tr>\n",
       "    <tr>\n",
       "      <th>...</th>\n",
       "      <td>...</td>\n",
       "      <td>...</td>\n",
       "      <td>...</td>\n",
       "      <td>...</td>\n",
       "      <td>...</td>\n",
       "      <td>...</td>\n",
       "      <td>...</td>\n",
       "      <td>...</td>\n",
       "      <td>...</td>\n",
       "    </tr>\n",
       "    <tr>\n",
       "      <th>44439</th>\n",
       "      <td>168</td>\n",
       "      <td>1</td>\n",
       "      <td>3</td>\n",
       "      <td>72</td>\n",
       "      <td>25</td>\n",
       "      <td>0</td>\n",
       "      <td>0</td>\n",
       "      <td>0</td>\n",
       "      <td>-0.371760</td>\n",
       "    </tr>\n",
       "    <tr>\n",
       "      <th>44440</th>\n",
       "      <td>82</td>\n",
       "      <td>1</td>\n",
       "      <td>3</td>\n",
       "      <td>8</td>\n",
       "      <td>28</td>\n",
       "      <td>0</td>\n",
       "      <td>0</td>\n",
       "      <td>1</td>\n",
       "      <td>0.720631</td>\n",
       "    </tr>\n",
       "    <tr>\n",
       "      <th>44441</th>\n",
       "      <td>886</td>\n",
       "      <td>4</td>\n",
       "      <td>3</td>\n",
       "      <td>15</td>\n",
       "      <td>47</td>\n",
       "      <td>0</td>\n",
       "      <td>0</td>\n",
       "      <td>1</td>\n",
       "      <td>-0.267723</td>\n",
       "    </tr>\n",
       "    <tr>\n",
       "      <th>44442</th>\n",
       "      <td>404</td>\n",
       "      <td>4</td>\n",
       "      <td>3</td>\n",
       "      <td>15</td>\n",
       "      <td>43</td>\n",
       "      <td>0</td>\n",
       "      <td>0</td>\n",
       "      <td>1</td>\n",
       "      <td>-0.423779</td>\n",
       "    </tr>\n",
       "    <tr>\n",
       "      <th>44443</th>\n",
       "      <td>404</td>\n",
       "      <td>4</td>\n",
       "      <td>3</td>\n",
       "      <td>15</td>\n",
       "      <td>43</td>\n",
       "      <td>0</td>\n",
       "      <td>0</td>\n",
       "      <td>1</td>\n",
       "      <td>-0.371760</td>\n",
       "    </tr>\n",
       "  </tbody>\n",
       "</table>\n",
       "<p>44444 rows × 9 columns</p>\n",
       "</div>"
      ],
      "text/plain": [
       "       service_title_1  external_status_1 order_type_1  department_id_1  \\\n",
       "0                  993                  4            0               16   \n",
       "1                   48                  4            0               16   \n",
       "2                  110                 21            3                8   \n",
       "3                  742                  4            3               15   \n",
       "4                  493                 21            3               72   \n",
       "...                ...                ...          ...              ...   \n",
       "44439              168                  1            3               72   \n",
       "44440               82                  1            3                8   \n",
       "44441              886                  4            3               15   \n",
       "44442              404                  4            3               15   \n",
       "44443              404                  4            3               15   \n",
       "\n",
       "       custom_service_id_1 service_level_1  requester_type  gender       age  \n",
       "0                       18               4               0       1 -0.267723  \n",
       "1                        1               4               0       0 -0.527816  \n",
       "2                       28               0               0       0  1.136780  \n",
       "3                        0               0               0       0 -0.423779  \n",
       "4                       25               0               0       1 -0.111667  \n",
       "...                    ...             ...             ...     ...       ...  \n",
       "44439                   25               0               0       0 -0.371760  \n",
       "44440                   28               0               0       1  0.720631  \n",
       "44441                   47               0               0       1 -0.267723  \n",
       "44442                   43               0               0       1 -0.423779  \n",
       "44443                   43               0               0       1 -0.371760  \n",
       "\n",
       "[44444 rows x 9 columns]"
      ]
     },
     "execution_count": 57,
     "metadata": {},
     "output_type": "execute_result"
    }
   ],
   "source": [
    "sab_cluster"
   ]
  },
  {
   "cell_type": "code",
   "execution_count": 58,
   "metadata": {},
   "outputs": [],
   "source": [
    "sab_cluster_array = sab_cluster.values"
   ]
  },
  {
   "cell_type": "code",
   "execution_count": 61,
   "metadata": {},
   "outputs": [
    {
     "data": {
      "text/plain": [
       "array([[993, 4, 0, ..., 0, 1, -0.2677228734177517],\n",
       "       [48, 4, 0, ..., 0, 0, -0.5278159434387918],\n",
       "       [110, 21, 3, ..., 0, 0, 1.136779704695865],\n",
       "       ...,\n",
       "       [886, 4, 3, ..., 0, 1, -0.2677228734177517],\n",
       "       [404, 4, 3, ..., 0, 1, -0.42377871543037576],\n",
       "       [404, 4, 3, ..., 0, 1, -0.3717601014261677]], dtype=object)"
      ]
     },
     "execution_count": 61,
     "metadata": {},
     "output_type": "execute_result"
    }
   ],
   "source": [
    "sab_cluster_array"
   ]
  },
  {
   "cell_type": "code",
   "execution_count": 60,
   "metadata": {},
   "outputs": [],
   "source": [
    "sab_cluster_array[:, 8] = sab_cluster_array[:, 8].astype(float)"
   ]
  },
  {
   "cell_type": "code",
   "execution_count": 64,
   "metadata": {},
   "outputs": [
    {
     "name": "stdout",
     "output_type": "stream",
     "text": [
      "Init: initializing centroids\n",
      "Init: initializing clusters\n",
      "Starting iterations...\n",
      "Run: 1, iteration: 1/20, moves: 12562, ncost: 32718.842281616096\n",
      "Run: 1, iteration: 2/20, moves: 4954, ncost: 32235.067498520293\n",
      "Run: 1, iteration: 3/20, moves: 1840, ncost: 32017.470443981325\n",
      "Run: 1, iteration: 4/20, moves: 1167, ncost: 31793.122260060853\n",
      "Run: 1, iteration: 5/20, moves: 512, ncost: 31783.948920360726\n",
      "Run: 1, iteration: 6/20, moves: 244, ncost: 31772.3504277282\n",
      "Run: 1, iteration: 7/20, moves: 444, ncost: 31736.226663288504\n",
      "Run: 1, iteration: 8/20, moves: 269, ncost: 31730.737454344984\n",
      "Run: 1, iteration: 9/20, moves: 167, ncost: 31729.31551994296\n",
      "Run: 1, iteration: 10/20, moves: 37, ncost: 31729.015693232785\n",
      "Run: 1, iteration: 11/20, moves: 1, ncost: 31729.013094277874\n",
      "Run: 1, iteration: 12/20, moves: 0, ncost: 31729.013094277874\n",
      "Init: initializing centroids\n",
      "Init: initializing clusters\n",
      "Starting iterations...\n",
      "Run: 2, iteration: 1/20, moves: 15057, ncost: 33301.578243911084\n",
      "Run: 2, iteration: 2/20, moves: 5765, ncost: 32679.61354522122\n",
      "Run: 2, iteration: 3/20, moves: 3229, ncost: 32408.391259725184\n",
      "Run: 2, iteration: 4/20, moves: 2141, ncost: 32063.438195576364\n",
      "Run: 2, iteration: 5/20, moves: 1585, ncost: 31918.7185080593\n",
      "Run: 2, iteration: 6/20, moves: 1286, ncost: 31874.01111166243\n",
      "Run: 2, iteration: 7/20, moves: 552, ncost: 31866.800574615558\n",
      "Run: 2, iteration: 8/20, moves: 308, ncost: 31864.13860891391\n",
      "Run: 2, iteration: 9/20, moves: 100, ncost: 31863.859160612043\n",
      "Run: 2, iteration: 10/20, moves: 4, ncost: 31863.85871488841\n",
      "Run: 2, iteration: 11/20, moves: 0, ncost: 31863.85871488841\n",
      "Init: initializing centroids\n",
      "Init: initializing clusters\n",
      "Starting iterations...\n",
      "Run: 3, iteration: 1/20, moves: 12143, ncost: 33960.65088265721\n",
      "Run: 3, iteration: 2/20, moves: 5804, ncost: 33208.48125795224\n",
      "Run: 3, iteration: 3/20, moves: 3930, ncost: 32872.09932403374\n",
      "Run: 3, iteration: 4/20, moves: 3226, ncost: 32634.608243720206\n",
      "Run: 3, iteration: 5/20, moves: 2485, ncost: 32270.631131122587\n",
      "Run: 3, iteration: 6/20, moves: 1585, ncost: 32198.485744988164\n",
      "Run: 3, iteration: 7/20, moves: 1514, ncost: 32117.099937422496\n",
      "Run: 3, iteration: 8/20, moves: 1421, ncost: 32053.141760385974\n",
      "Run: 3, iteration: 9/20, moves: 1011, ncost: 31984.87886539609\n",
      "Run: 3, iteration: 10/20, moves: 913, ncost: 31954.181990815025\n",
      "Run: 3, iteration: 11/20, moves: 773, ncost: 31900.64451261665\n",
      "Run: 3, iteration: 12/20, moves: 605, ncost: 31881.57649118994\n",
      "Run: 3, iteration: 13/20, moves: 175, ncost: 31879.197992663056\n",
      "Run: 3, iteration: 14/20, moves: 130, ncost: 31878.093876847208\n",
      "Run: 3, iteration: 15/20, moves: 47, ncost: 31877.754636211248\n",
      "Run: 3, iteration: 16/20, moves: 41, ncost: 31877.351455932476\n",
      "Run: 3, iteration: 17/20, moves: 17, ncost: 31877.298771023517\n",
      "Run: 3, iteration: 18/20, moves: 0, ncost: 31877.298771023517\n",
      "Init: initializing centroids\n",
      "Init: initializing clusters\n",
      "Starting iterations...\n",
      "Run: 4, iteration: 1/20, moves: 14853, ncost: 34142.87360987833\n",
      "Run: 4, iteration: 2/20, moves: 6017, ncost: 33871.213218285695\n",
      "Run: 4, iteration: 3/20, moves: 2787, ncost: 33569.907230180404\n",
      "Run: 4, iteration: 4/20, moves: 1731, ncost: 33510.449661574516\n",
      "Run: 4, iteration: 5/20, moves: 1649, ncost: 33290.220282438124\n",
      "Run: 4, iteration: 6/20, moves: 2118, ncost: 32938.437940064396\n",
      "Run: 4, iteration: 7/20, moves: 1032, ncost: 32914.78794494683\n",
      "Run: 4, iteration: 8/20, moves: 602, ncost: 32902.48174153396\n",
      "Run: 4, iteration: 9/20, moves: 519, ncost: 32891.4930050648\n",
      "Run: 4, iteration: 10/20, moves: 413, ncost: 32877.90596698121\n",
      "Run: 4, iteration: 11/20, moves: 343, ncost: 32873.41383759363\n",
      "Run: 4, iteration: 12/20, moves: 103, ncost: 32872.16813317434\n",
      "Run: 4, iteration: 13/20, moves: 108, ncost: 32871.45193163735\n",
      "Run: 4, iteration: 14/20, moves: 80, ncost: 32871.33028432274\n",
      "Run: 4, iteration: 15/20, moves: 1, ncost: 32871.33026387396\n",
      "Run: 4, iteration: 16/20, moves: 0, ncost: 32871.33026387396\n",
      "Init: initializing centroids\n",
      "Init: initializing clusters\n",
      "Init: initializing centroids\n",
      "Init: initializing clusters\n",
      "Starting iterations...\n",
      "Run: 5, iteration: 1/20, moves: 13596, ncost: 33640.4768034348\n",
      "Run: 5, iteration: 2/20, moves: 5219, ncost: 33310.52820202643\n",
      "Run: 5, iteration: 3/20, moves: 3039, ncost: 33176.66192392605\n",
      "Run: 5, iteration: 4/20, moves: 2235, ncost: 33081.428901276624\n",
      "Run: 5, iteration: 5/20, moves: 1821, ncost: 32973.261109594525\n",
      "Run: 5, iteration: 6/20, moves: 1523, ncost: 32888.83246589074\n",
      "Run: 5, iteration: 7/20, moves: 1436, ncost: 32833.54086146966\n",
      "Run: 5, iteration: 8/20, moves: 779, ncost: 32810.65145869402\n",
      "Run: 5, iteration: 9/20, moves: 430, ncost: 32786.694064083415\n",
      "Run: 5, iteration: 10/20, moves: 327, ncost: 32781.123347708206\n",
      "Run: 5, iteration: 11/20, moves: 284, ncost: 32777.37765357516\n",
      "Run: 5, iteration: 12/20, moves: 169, ncost: 32773.338559763506\n",
      "Run: 5, iteration: 13/20, moves: 286, ncost: 32728.603605459597\n",
      "Run: 5, iteration: 14/20, moves: 261, ncost: 32702.557164051894\n",
      "Run: 5, iteration: 15/20, moves: 183, ncost: 32694.239174076156\n",
      "Run: 5, iteration: 16/20, moves: 43, ncost: 32693.658785982792\n",
      "Run: 5, iteration: 17/20, moves: 15, ncost: 32693.60318535532\n",
      "Run: 5, iteration: 18/20, moves: 2, ncost: 32693.602307367928\n",
      "Run: 5, iteration: 19/20, moves: 0, ncost: 32693.602307367928\n",
      "Init: initializing centroids\n",
      "Init: initializing clusters\n",
      "Starting iterations...\n",
      "Run: 6, iteration: 1/20, moves: 16184, ncost: 31653.64814721527\n",
      "Run: 6, iteration: 2/20, moves: 5116, ncost: 31207.88791687113\n",
      "Run: 6, iteration: 3/20, moves: 1994, ncost: 31044.264025873203\n",
      "Run: 6, iteration: 4/20, moves: 1263, ncost: 30982.96965280446\n",
      "Run: 6, iteration: 5/20, moves: 656, ncost: 30969.39265146212\n",
      "Run: 6, iteration: 6/20, moves: 217, ncost: 30968.074278099495\n",
      "Run: 6, iteration: 7/20, moves: 69, ncost: 30967.521239483416\n",
      "Run: 6, iteration: 8/20, moves: 86, ncost: 30965.99714805892\n",
      "Run: 6, iteration: 9/20, moves: 36, ncost: 30965.886855182114\n",
      "Run: 6, iteration: 10/20, moves: 15, ncost: 30965.870011454594\n",
      "Run: 6, iteration: 11/20, moves: 0, ncost: 30965.870011454594\n",
      "Init: initializing centroids\n",
      "Init: initializing clusters\n",
      "Starting iterations...\n",
      "Run: 7, iteration: 1/20, moves: 15580, ncost: 32397.158347678134\n",
      "Run: 7, iteration: 2/20, moves: 5160, ncost: 31794.454175208753\n",
      "Run: 7, iteration: 3/20, moves: 2674, ncost: 31652.00507211699\n",
      "Run: 7, iteration: 4/20, moves: 1522, ncost: 31582.232719512413\n",
      "Run: 7, iteration: 5/20, moves: 860, ncost: 31563.372042329607\n",
      "Run: 7, iteration: 6/20, moves: 666, ncost: 31553.855320543265\n",
      "Run: 7, iteration: 7/20, moves: 358, ncost: 31550.493528614697\n",
      "Run: 7, iteration: 8/20, moves: 73, ncost: 31549.420191145295\n",
      "Run: 7, iteration: 9/20, moves: 30, ncost: 31549.089003709014\n",
      "Run: 7, iteration: 10/20, moves: 28, ncost: 31548.533662464557\n",
      "Run: 7, iteration: 11/20, moves: 44, ncost: 31548.08027604743\n",
      "Run: 7, iteration: 12/20, moves: 12, ncost: 31548.0760304513\n",
      "Run: 7, iteration: 13/20, moves: 0, ncost: 31548.0760304513\n",
      "Init: initializing centroids\n",
      "Init: initializing clusters\n",
      "Starting iterations...\n",
      "Run: 8, iteration: 1/20, moves: 13546, ncost: 36503.99654261158\n",
      "Run: 8, iteration: 2/20, moves: 7213, ncost: 36031.007438971974\n",
      "Run: 8, iteration: 3/20, moves: 3916, ncost: 35755.224792798435\n",
      "Run: 8, iteration: 4/20, moves: 3053, ncost: 35536.173675596394\n",
      "Run: 8, iteration: 5/20, moves: 2173, ncost: 35490.25553199835\n",
      "Run: 8, iteration: 6/20, moves: 1393, ncost: 35318.38873831576\n",
      "Run: 8, iteration: 7/20, moves: 1383, ncost: 35232.69204699321\n",
      "Run: 8, iteration: 8/20, moves: 667, ncost: 35197.34697375856\n",
      "Run: 8, iteration: 9/20, moves: 964, ncost: 35140.52575588923\n",
      "Run: 8, iteration: 10/20, moves: 985, ncost: 34906.60712999921\n",
      "Run: 8, iteration: 11/20, moves: 2182, ncost: 33848.962968632906\n",
      "Run: 8, iteration: 12/20, moves: 1824, ncost: 33350.07152708235\n",
      "Run: 8, iteration: 13/20, moves: 942, ncost: 33319.415620834545\n",
      "Run: 8, iteration: 14/20, moves: 514, ncost: 33301.515978810094\n",
      "Run: 8, iteration: 15/20, moves: 420, ncost: 33292.148985867985\n",
      "Run: 8, iteration: 16/20, moves: 430, ncost: 33180.90295462686\n",
      "Run: 8, iteration: 17/20, moves: 747, ncost: 33046.44438269092\n",
      "Run: 8, iteration: 18/20, moves: 438, ncost: 33007.41677124382\n",
      "Run: 8, iteration: 19/20, moves: 276, ncost: 32999.24621261826\n"
     ]
    },
    {
     "name": "stdout",
     "output_type": "stream",
     "text": [
      "Run: 8, iteration: 20/20, moves: 252, ncost: 32992.46567167683\n",
      "Run: 8, iteration: 21/20, moves: 104, ncost: 32987.91828138221\n",
      "Init: initializing centroids\n",
      "Init: initializing clusters\n",
      "Starting iterations...\n",
      "Run: 9, iteration: 1/20, moves: 15038, ncost: 34356.23610544287\n",
      "Run: 9, iteration: 2/20, moves: 6849, ncost: 33265.42655270793\n",
      "Run: 9, iteration: 3/20, moves: 3534, ncost: 32697.54574522374\n",
      "Run: 9, iteration: 4/20, moves: 3499, ncost: 32218.43384492273\n",
      "Run: 9, iteration: 5/20, moves: 1587, ncost: 32164.070740242172\n",
      "Run: 9, iteration: 6/20, moves: 1046, ncost: 32136.14516693182\n",
      "Run: 9, iteration: 7/20, moves: 473, ncost: 32121.764576062564\n",
      "Run: 9, iteration: 8/20, moves: 400, ncost: 32111.506237165086\n",
      "Run: 9, iteration: 9/20, moves: 314, ncost: 32102.928342377018\n",
      "Run: 9, iteration: 10/20, moves: 246, ncost: 32096.897881355508\n",
      "Run: 9, iteration: 11/20, moves: 120, ncost: 32095.70967613422\n",
      "Run: 9, iteration: 12/20, moves: 75, ncost: 32093.680733529087\n",
      "Run: 9, iteration: 13/20, moves: 264, ncost: 32086.845142321185\n",
      "Run: 9, iteration: 14/20, moves: 154, ncost: 32083.667411364484\n",
      "Run: 9, iteration: 15/20, moves: 179, ncost: 32076.44187643796\n",
      "Run: 9, iteration: 16/20, moves: 343, ncost: 32052.90036620069\n",
      "Run: 9, iteration: 17/20, moves: 334, ncost: 32042.47557285418\n",
      "Run: 9, iteration: 18/20, moves: 218, ncost: 32039.656211098678\n",
      "Run: 9, iteration: 19/20, moves: 112, ncost: 32037.82871330436\n",
      "Run: 9, iteration: 20/20, moves: 164, ncost: 32032.867953475787\n",
      "Run: 9, iteration: 21/20, moves: 164, ncost: 32028.45251580519\n",
      "Init: initializing centroids\n",
      "Init: initializing clusters\n",
      "Starting iterations...\n",
      "Run: 10, iteration: 1/20, moves: 14958, ncost: 32761.888342948976\n",
      "Run: 10, iteration: 2/20, moves: 5902, ncost: 32233.258925876176\n",
      "Run: 10, iteration: 3/20, moves: 3116, ncost: 31968.330639040407\n",
      "Run: 10, iteration: 4/20, moves: 1689, ncost: 31893.32974089701\n",
      "Run: 10, iteration: 5/20, moves: 1100, ncost: 31753.628999791956\n",
      "Run: 10, iteration: 6/20, moves: 588, ncost: 31574.92096671931\n",
      "Run: 10, iteration: 7/20, moves: 524, ncost: 31559.765555237245\n",
      "Run: 10, iteration: 8/20, moves: 187, ncost: 31556.832835881367\n",
      "Run: 10, iteration: 9/20, moves: 76, ncost: 31556.324149102005\n",
      "Run: 10, iteration: 10/20, moves: 41, ncost: 31555.89742719722\n",
      "Run: 10, iteration: 11/20, moves: 112, ncost: 31555.058102905034\n",
      "Run: 10, iteration: 12/20, moves: 29, ncost: 31554.92465288658\n",
      "Run: 10, iteration: 13/20, moves: 25, ncost: 31554.833533310913\n",
      "Run: 10, iteration: 14/20, moves: 3, ncost: 31554.827849685567\n",
      "Run: 10, iteration: 15/20, moves: 5, ncost: 31554.82734948156\n",
      "Run: 10, iteration: 16/20, moves: 0, ncost: 31554.82734948156\n",
      "Best run was number 6\n"
     ]
    },
    {
     "data": {
      "text/plain": [
       "array([34, 34, 33, ..., 24, 24, 24], dtype=uint16)"
      ]
     },
     "execution_count": 64,
     "metadata": {},
     "output_type": "execute_result"
    }
   ],
   "source": [
    "#kproto = KPrototypes(n_clusters=45, verbose=2, max_iter=20)\n",
    "#kproto.fit_predict(sab_cluster_array, categorical=[0, 1, 2, 3, 4, 5, 6, 7])"
   ]
  },
  {
   "cell_type": "code",
   "execution_count": 87,
   "metadata": {},
   "outputs": [
    {
     "data": {
      "text/plain": [
       "['kproto.sav']"
      ]
     },
     "execution_count": 87,
     "metadata": {},
     "output_type": "execute_result"
    }
   ],
   "source": [
    "import joblib\n",
    "#filename = 'kproto.sav'\n",
    "#joblib.dump(kproto, filename)\n",
    "#loaded_model = joblib.load(filename)"
   ]
  },
  {
   "cell_type": "code",
   "execution_count": 196,
   "metadata": {},
   "outputs": [],
   "source": [
    "filename = \"../input/kproto/kproto.sav\"\n",
    "kproto = joblib.load(filename)"
   ]
  },
  {
   "cell_type": "code",
   "execution_count": 66,
   "metadata": {},
   "outputs": [],
   "source": [
    "sab_pred['cluster'] = kproto.predict(sab_cluster_array, categorical=[0, 1, 2, 3, 4, 5, 6, 7])"
   ]
  },
  {
   "cell_type": "code",
   "execution_count": 73,
   "metadata": {},
   "outputs": [],
   "source": [
    "X['age'] = df2['age']"
   ]
  },
  {
   "cell_type": "code",
   "execution_count": 74,
   "metadata": {},
   "outputs": [],
   "source": [
    "X_cluster = X[['service_title_1', 'external_status_1', 'order_type_1', 'department_id_1', 'custom_service_id_1', 'service_level_1', 'requester_type', 'gender', 'age']]"
   ]
  },
  {
   "cell_type": "code",
   "execution_count": 76,
   "metadata": {},
   "outputs": [
    {
     "name": "stderr",
     "output_type": "stream",
     "text": [
      "/opt/conda/lib/python3.7/site-packages/ipykernel_launcher.py:1: SettingWithCopyWarning: \n",
      "A value is trying to be set on a copy of a slice from a DataFrame.\n",
      "Try using .loc[row_indexer,col_indexer] = value instead\n",
      "\n",
      "See the caveats in the documentation: https://pandas.pydata.org/pandas-docs/stable/user_guide/indexing.html#returning-a-view-versus-a-copy\n",
      "  \"\"\"Entry point for launching an IPython kernel.\n",
      "/opt/conda/lib/python3.7/site-packages/pandas/core/indexing.py:966: SettingWithCopyWarning: \n",
      "A value is trying to be set on a copy of a slice from a DataFrame.\n",
      "Try using .loc[row_indexer,col_indexer] = value instead\n",
      "\n",
      "See the caveats in the documentation: https://pandas.pydata.org/pandas-docs/stable/user_guide/indexing.html#returning-a-view-versus-a-copy\n",
      "  self.obj[item] = s\n"
     ]
    }
   ],
   "source": [
    "X_cluster[['age']] = scaler.transform(X_cluster[['age']])"
   ]
  },
  {
   "cell_type": "code",
   "execution_count": 78,
   "metadata": {},
   "outputs": [],
   "source": [
    "X_cluster_array = X_cluster.values"
   ]
  },
  {
   "cell_type": "code",
   "execution_count": 79,
   "metadata": {},
   "outputs": [],
   "source": [
    "X_cluster_array[:, 8] = X_cluster_array[:, 8].astype(float)"
   ]
  },
  {
   "cell_type": "code",
   "execution_count": 80,
   "metadata": {},
   "outputs": [],
   "source": [
    "X['cluster'] = kproto.predict(X_cluster_array, categorical=[0, 1, 2, 3, 4, 5, 6, 7])"
   ]
  },
  {
   "cell_type": "code",
   "execution_count": 99,
   "metadata": {},
   "outputs": [],
   "source": [
    "x_p_new = dict(sab_pred['cluster'].value_counts(normalize=True))"
   ]
  },
  {
   "cell_type": "code",
   "execution_count": 104,
   "metadata": {},
   "outputs": [],
   "source": [
    "x = next(iter(x_p_new))"
   ]
  },
  {
   "cell_type": "code",
   "execution_count": 102,
   "metadata": {},
   "outputs": [],
   "source": [
    "x_old = dict(X['cluster'].value_counts(normalize=False))"
   ]
  },
  {
   "cell_type": "code",
   "execution_count": 105,
   "metadata": {},
   "outputs": [],
   "source": [
    "max_n = x_old[x]"
   ]
  },
  {
   "cell_type": "code",
   "execution_count": 107,
   "metadata": {},
   "outputs": [],
   "source": [
    "max_p_new = x_p_new[x]"
   ]
  },
  {
   "cell_type": "code",
   "execution_count": 119,
   "metadata": {},
   "outputs": [],
   "source": [
    "def get_cluster_size(xp_new, max_n, max_p_new):\n",
    "    n_new = round(max_n/max_p_new)\n",
    "    d_x_new = {}\n",
    "    for i in list(xp_new.keys()):\n",
    "        d_x_new[i] = int(round(n_new*xp_new[i]))\n",
    "    return d_x_new    "
   ]
  },
  {
   "cell_type": "code",
   "execution_count": 120,
   "metadata": {},
   "outputs": [],
   "source": [
    "x_new = get_cluster_size(x_p_new, max_n, max_p_new)"
   ]
  },
  {
   "cell_type": "code",
   "execution_count": 126,
   "metadata": {},
   "outputs": [],
   "source": [
    "X['service_title'] = y"
   ]
  },
  {
   "cell_type": "code",
   "execution_count": 134,
   "metadata": {},
   "outputs": [
    {
     "data": {
      "text/html": [
       "<div>\n",
       "<style scoped>\n",
       "    .dataframe tbody tr th:only-of-type {\n",
       "        vertical-align: middle;\n",
       "    }\n",
       "\n",
       "    .dataframe tbody tr th {\n",
       "        vertical-align: top;\n",
       "    }\n",
       "\n",
       "    .dataframe thead th {\n",
       "        text-align: right;\n",
       "    }\n",
       "</style>\n",
       "<table border=\"1\" class=\"dataframe\">\n",
       "  <thead>\n",
       "    <tr style=\"text-align: right;\">\n",
       "      <th></th>\n",
       "      <th>service_1</th>\n",
       "      <th>service_title_1</th>\n",
       "      <th>mfc_1</th>\n",
       "      <th>internal_status_1</th>\n",
       "      <th>external_status_1</th>\n",
       "      <th>order_type_1</th>\n",
       "      <th>department_id_1</th>\n",
       "      <th>custom_service_id_1</th>\n",
       "      <th>service_level_1</th>\n",
       "      <th>is_subdep_1</th>\n",
       "      <th>...</th>\n",
       "      <th>year_1</th>\n",
       "      <th>person_1</th>\n",
       "      <th>sole_1</th>\n",
       "      <th>legal_1</th>\n",
       "      <th>auto_ping_queue_1</th>\n",
       "      <th>requester_type</th>\n",
       "      <th>gender</th>\n",
       "      <th>age</th>\n",
       "      <th>cluster</th>\n",
       "      <th>service_title</th>\n",
       "    </tr>\n",
       "  </thead>\n",
       "  <tbody>\n",
       "    <tr>\n",
       "      <th>0</th>\n",
       "      <td>13</td>\n",
       "      <td>946</td>\n",
       "      <td>140</td>\n",
       "      <td>7</td>\n",
       "      <td>21</td>\n",
       "      <td>3</td>\n",
       "      <td>72</td>\n",
       "      <td>0</td>\n",
       "      <td>0</td>\n",
       "      <td>0</td>\n",
       "      <td>...</td>\n",
       "      <td>0</td>\n",
       "      <td>1</td>\n",
       "      <td>0</td>\n",
       "      <td>0</td>\n",
       "      <td>1</td>\n",
       "      <td>0</td>\n",
       "      <td>1</td>\n",
       "      <td>41.0</td>\n",
       "      <td>1</td>\n",
       "      <td>126</td>\n",
       "    </tr>\n",
       "    <tr>\n",
       "      <th>1</th>\n",
       "      <td>0</td>\n",
       "      <td>640</td>\n",
       "      <td>1</td>\n",
       "      <td>7</td>\n",
       "      <td>21</td>\n",
       "      <td>3</td>\n",
       "      <td>34</td>\n",
       "      <td>11</td>\n",
       "      <td>0</td>\n",
       "      <td>1</td>\n",
       "      <td>...</td>\n",
       "      <td>0</td>\n",
       "      <td>0</td>\n",
       "      <td>0</td>\n",
       "      <td>0</td>\n",
       "      <td>1</td>\n",
       "      <td>0</td>\n",
       "      <td>1</td>\n",
       "      <td>34.0</td>\n",
       "      <td>1</td>\n",
       "      <td>10</td>\n",
       "    </tr>\n",
       "    <tr>\n",
       "      <th>2</th>\n",
       "      <td>0</td>\n",
       "      <td>896</td>\n",
       "      <td>85</td>\n",
       "      <td>7</td>\n",
       "      <td>21</td>\n",
       "      <td>1</td>\n",
       "      <td>69</td>\n",
       "      <td>1</td>\n",
       "      <td>3</td>\n",
       "      <td>0</td>\n",
       "      <td>...</td>\n",
       "      <td>0</td>\n",
       "      <td>0</td>\n",
       "      <td>0</td>\n",
       "      <td>0</td>\n",
       "      <td>1</td>\n",
       "      <td>0</td>\n",
       "      <td>1</td>\n",
       "      <td>34.0</td>\n",
       "      <td>1</td>\n",
       "      <td>136</td>\n",
       "    </tr>\n",
       "    <tr>\n",
       "      <th>3</th>\n",
       "      <td>0</td>\n",
       "      <td>432</td>\n",
       "      <td>139</td>\n",
       "      <td>7</td>\n",
       "      <td>21</td>\n",
       "      <td>3</td>\n",
       "      <td>34</td>\n",
       "      <td>10</td>\n",
       "      <td>0</td>\n",
       "      <td>1</td>\n",
       "      <td>...</td>\n",
       "      <td>0</td>\n",
       "      <td>0</td>\n",
       "      <td>0</td>\n",
       "      <td>0</td>\n",
       "      <td>1</td>\n",
       "      <td>0</td>\n",
       "      <td>1</td>\n",
       "      <td>33.0</td>\n",
       "      <td>1</td>\n",
       "      <td>90</td>\n",
       "    </tr>\n",
       "    <tr>\n",
       "      <th>4</th>\n",
       "      <td>13</td>\n",
       "      <td>946</td>\n",
       "      <td>49</td>\n",
       "      <td>7</td>\n",
       "      <td>4</td>\n",
       "      <td>0</td>\n",
       "      <td>72</td>\n",
       "      <td>0</td>\n",
       "      <td>0</td>\n",
       "      <td>0</td>\n",
       "      <td>...</td>\n",
       "      <td>0</td>\n",
       "      <td>1</td>\n",
       "      <td>0</td>\n",
       "      <td>0</td>\n",
       "      <td>1</td>\n",
       "      <td>0</td>\n",
       "      <td>1</td>\n",
       "      <td>32.0</td>\n",
       "      <td>1</td>\n",
       "      <td>126</td>\n",
       "    </tr>\n",
       "    <tr>\n",
       "      <th>...</th>\n",
       "      <td>...</td>\n",
       "      <td>...</td>\n",
       "      <td>...</td>\n",
       "      <td>...</td>\n",
       "      <td>...</td>\n",
       "      <td>...</td>\n",
       "      <td>...</td>\n",
       "      <td>...</td>\n",
       "      <td>...</td>\n",
       "      <td>...</td>\n",
       "      <td>...</td>\n",
       "      <td>...</td>\n",
       "      <td>...</td>\n",
       "      <td>...</td>\n",
       "      <td>...</td>\n",
       "      <td>...</td>\n",
       "      <td>...</td>\n",
       "      <td>...</td>\n",
       "      <td>...</td>\n",
       "      <td>...</td>\n",
       "      <td>...</td>\n",
       "    </tr>\n",
       "    <tr>\n",
       "      <th>995</th>\n",
       "      <td>13</td>\n",
       "      <td>946</td>\n",
       "      <td>26</td>\n",
       "      <td>7</td>\n",
       "      <td>21</td>\n",
       "      <td>3</td>\n",
       "      <td>72</td>\n",
       "      <td>0</td>\n",
       "      <td>0</td>\n",
       "      <td>0</td>\n",
       "      <td>...</td>\n",
       "      <td>0</td>\n",
       "      <td>1</td>\n",
       "      <td>0</td>\n",
       "      <td>0</td>\n",
       "      <td>1</td>\n",
       "      <td>0</td>\n",
       "      <td>1</td>\n",
       "      <td>36.0</td>\n",
       "      <td>1</td>\n",
       "      <td>133</td>\n",
       "    </tr>\n",
       "    <tr>\n",
       "      <th>996</th>\n",
       "      <td>14</td>\n",
       "      <td>736</td>\n",
       "      <td>129</td>\n",
       "      <td>7</td>\n",
       "      <td>21</td>\n",
       "      <td>3</td>\n",
       "      <td>72</td>\n",
       "      <td>0</td>\n",
       "      <td>0</td>\n",
       "      <td>0</td>\n",
       "      <td>...</td>\n",
       "      <td>0</td>\n",
       "      <td>1</td>\n",
       "      <td>0</td>\n",
       "      <td>0</td>\n",
       "      <td>1</td>\n",
       "      <td>0</td>\n",
       "      <td>1</td>\n",
       "      <td>40.0</td>\n",
       "      <td>1</td>\n",
       "      <td>126</td>\n",
       "    </tr>\n",
       "    <tr>\n",
       "      <th>997</th>\n",
       "      <td>14</td>\n",
       "      <td>736</td>\n",
       "      <td>129</td>\n",
       "      <td>7</td>\n",
       "      <td>21</td>\n",
       "      <td>3</td>\n",
       "      <td>72</td>\n",
       "      <td>0</td>\n",
       "      <td>0</td>\n",
       "      <td>0</td>\n",
       "      <td>...</td>\n",
       "      <td>0</td>\n",
       "      <td>1</td>\n",
       "      <td>0</td>\n",
       "      <td>0</td>\n",
       "      <td>1</td>\n",
       "      <td>0</td>\n",
       "      <td>1</td>\n",
       "      <td>42.0</td>\n",
       "      <td>1</td>\n",
       "      <td>126</td>\n",
       "    </tr>\n",
       "    <tr>\n",
       "      <th>998</th>\n",
       "      <td>0</td>\n",
       "      <td>860</td>\n",
       "      <td>85</td>\n",
       "      <td>7</td>\n",
       "      <td>21</td>\n",
       "      <td>3</td>\n",
       "      <td>34</td>\n",
       "      <td>48</td>\n",
       "      <td>0</td>\n",
       "      <td>1</td>\n",
       "      <td>...</td>\n",
       "      <td>1</td>\n",
       "      <td>0</td>\n",
       "      <td>0</td>\n",
       "      <td>0</td>\n",
       "      <td>1</td>\n",
       "      <td>0</td>\n",
       "      <td>1</td>\n",
       "      <td>33.0</td>\n",
       "      <td>1</td>\n",
       "      <td>138</td>\n",
       "    </tr>\n",
       "    <tr>\n",
       "      <th>999</th>\n",
       "      <td>13</td>\n",
       "      <td>946</td>\n",
       "      <td>41</td>\n",
       "      <td>7</td>\n",
       "      <td>22</td>\n",
       "      <td>3</td>\n",
       "      <td>72</td>\n",
       "      <td>0</td>\n",
       "      <td>0</td>\n",
       "      <td>0</td>\n",
       "      <td>...</td>\n",
       "      <td>0</td>\n",
       "      <td>1</td>\n",
       "      <td>0</td>\n",
       "      <td>0</td>\n",
       "      <td>1</td>\n",
       "      <td>0</td>\n",
       "      <td>1</td>\n",
       "      <td>43.0</td>\n",
       "      <td>1</td>\n",
       "      <td>126</td>\n",
       "    </tr>\n",
       "  </tbody>\n",
       "</table>\n",
       "<p>1000 rows × 25 columns</p>\n",
       "</div>"
      ],
      "text/plain": [
       "     service_1  service_title_1  mfc_1  internal_status_1  external_status_1  \\\n",
       "0           13              946    140                  7                 21   \n",
       "1            0              640      1                  7                 21   \n",
       "2            0              896     85                  7                 21   \n",
       "3            0              432    139                  7                 21   \n",
       "4           13              946     49                  7                  4   \n",
       "..         ...              ...    ...                ...                ...   \n",
       "995         13              946     26                  7                 21   \n",
       "996         14              736    129                  7                 21   \n",
       "997         14              736    129                  7                 21   \n",
       "998          0              860     85                  7                 21   \n",
       "999         13              946     41                  7                 22   \n",
       "\n",
       "    order_type_1  department_id_1  custom_service_id_1 service_level_1  \\\n",
       "0              3               72                    0               0   \n",
       "1              3               34                   11               0   \n",
       "2              1               69                    1               3   \n",
       "3              3               34                   10               0   \n",
       "4              0               72                    0               0   \n",
       "..           ...              ...                  ...             ...   \n",
       "995            3               72                    0               0   \n",
       "996            3               72                    0               0   \n",
       "997            3               72                    0               0   \n",
       "998            3               34                   48               0   \n",
       "999            3               72                    0               0   \n",
       "\n",
       "     is_subdep_1  ...  year_1  person_1 sole_1  legal_1  auto_ping_queue_1  \\\n",
       "0              0  ...       0         1      0        0                  1   \n",
       "1              1  ...       0         0      0        0                  1   \n",
       "2              0  ...       0         0      0        0                  1   \n",
       "3              1  ...       0         0      0        0                  1   \n",
       "4              0  ...       0         1      0        0                  1   \n",
       "..           ...  ...     ...       ...    ...      ...                ...   \n",
       "995            0  ...       0         1      0        0                  1   \n",
       "996            0  ...       0         1      0        0                  1   \n",
       "997            0  ...       0         1      0        0                  1   \n",
       "998            1  ...       1         0      0        0                  1   \n",
       "999            0  ...       0         1      0        0                  1   \n",
       "\n",
       "     requester_type  gender   age  cluster  service_title  \n",
       "0                 0       1  41.0        1            126  \n",
       "1                 0       1  34.0        1             10  \n",
       "2                 0       1  34.0        1            136  \n",
       "3                 0       1  33.0        1             90  \n",
       "4                 0       1  32.0        1            126  \n",
       "..              ...     ...   ...      ...            ...  \n",
       "995               0       1  36.0        1            133  \n",
       "996               0       1  40.0        1            126  \n",
       "997               0       1  42.0        1            126  \n",
       "998               0       1  33.0        1            138  \n",
       "999               0       1  43.0        1            126  \n",
       "\n",
       "[1000 rows x 25 columns]"
      ]
     },
     "execution_count": 134,
     "metadata": {},
     "output_type": "execute_result"
    }
   ],
   "source": [
    "X.loc[X['cluster'] == 1].sample(n=1000).reset_index(drop=True)"
   ]
  },
  {
   "cell_type": "code",
   "execution_count": 139,
   "metadata": {},
   "outputs": [],
   "source": [
    "X_clustered = pd.DataFrame(columns = X.columns)"
   ]
  },
  {
   "cell_type": "code",
   "execution_count": 179,
   "metadata": {},
   "outputs": [],
   "source": [
    "X_clustered2 = pd.DataFrame(columns = X.columns)\n",
    "chunks = []\n",
    "X2 = X.reset_index()\n",
    "for i in list(x_new.keys()):\n",
    "    chunk = X2.loc[X2['cluster'] == i][:x_new[i]]\n",
    "    chunks.append(chunk)\n",
    "X_clustered2 = pd.concat(chunks, ignore_index=True)"
   ]
  },
  {
   "cell_type": "code",
   "execution_count": 191,
   "metadata": {},
   "outputs": [],
   "source": [
    "X_clustered2['service_title'] = X_clustered2['service_title'].map(labeling_y.set_index('service_title_l').to_dict()['service_title'])"
   ]
  },
  {
   "cell_type": "code",
   "execution_count": 183,
   "metadata": {},
   "outputs": [],
   "source": [
    "i = 0\n",
    "for col in categorical:\n",
    "    X_clustered2[col] =  X_clustered2[col].map(labeling[i].set_index(col + '_l').to_dict()[col])\n",
    "    i += 1"
   ]
  },
  {
   "cell_type": "code",
   "execution_count": 186,
   "metadata": {},
   "outputs": [],
   "source": [
    "X_clustered2 = X_clustered2.sample(frac=1).reset_index(drop=True)"
   ]
  },
  {
   "cell_type": "code",
   "execution_count": 194,
   "metadata": {},
   "outputs": [],
   "source": [
    "X_clustered2.to_csv('df_train_clustered.csv', index=False)"
   ]
  }
 ],
 "metadata": {
  "kernelspec": {
   "display_name": "Python 3",
   "language": "python",
   "name": "python3"
  },
  "language_info": {
   "codemirror_mode": {
    "name": "ipython",
    "version": 3
   },
   "file_extension": ".py",
   "mimetype": "text/x-python",
   "name": "python",
   "nbconvert_exporter": "python",
   "pygments_lexer": "ipython3",
   "version": "3.7.3"
  }
 },
 "nbformat": 4,
 "nbformat_minor": 4
}
